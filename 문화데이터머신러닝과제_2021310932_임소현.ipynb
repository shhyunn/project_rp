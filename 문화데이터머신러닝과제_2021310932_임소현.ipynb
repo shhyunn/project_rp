{
  "nbformat": 4,
  "nbformat_minor": 0,
  "metadata": {
    "colab": {
      "provenance": [],
      "authorship_tag": "ABX9TyOIRj2defzzgKluv8aY1Fej",
      "include_colab_link": true
    },
    "kernelspec": {
      "name": "python3",
      "display_name": "Python 3"
    },
    "language_info": {
      "name": "python"
    }
  },
  "cells": [
    {
      "cell_type": "markdown",
      "metadata": {
        "id": "view-in-github",
        "colab_type": "text"
      },
      "source": [
        "<a href=\"https://colab.research.google.com/github/shhyunn/project_rp/blob/main/%EB%AC%B8%ED%99%94%EB%8D%B0%EC%9D%B4%ED%84%B0%EB%A8%B8%EC%8B%A0%EB%9F%AC%EB%8B%9D%EA%B3%BC%EC%A0%9C_2021310932_%EC%9E%84%EC%86%8C%ED%98%84.ipynb\" target=\"_parent\"><img src=\"https://colab.research.google.com/assets/colab-badge.svg\" alt=\"Open In Colab\"/></a>"
      ]
    },
    {
      "cell_type": "code",
      "execution_count": null,
      "metadata": {
        "id": "j8dXM4WT8jSn",
        "colab": {
          "base_uri": "https://localhost:8080/"
        },
        "outputId": "09693e44-2ef0-4f9b-9fb8-0bf9d9d36ee1"
      },
      "outputs": [
        {
          "output_type": "stream",
          "name": "stdout",
          "text": [
            "Mounted at /content/drive\n"
          ]
        }
      ],
      "source": [
        "#계정마운트\n",
        "from google.colab import drive\n",
        "drive.mount('/content/drive')"
      ]
    },
    {
      "cell_type": "code",
      "source": [
        "#필요한 모듈 불러오기\n",
        "import pandas as pd\n",
        "import matplotlib\n",
        "import matplotlib.pyplot as plt\n",
        "import seaborn as sns\n",
        "from sklearn.model_selection import train_test_split\n",
        "from sklearn.compose import ColumnTransformer\n",
        "from sklearn.preprocessing import StandardScaler\n",
        "from sklearn.preprocessing import OneHotEncoder\n",
        "from imblearn.over_sampling import SMOTE"
      ],
      "metadata": {
        "id": "NhJ6MENHLQ86"
      },
      "execution_count": null,
      "outputs": []
    },
    {
      "cell_type": "code",
      "source": [
        "#데이터 불러오기-타임스 고등교육 세계 대학 순위\n",
        "times_df=pd.read_csv('/content/drive/MyDrive/문화데이터와머신러닝/기말과제/timesData.csv', thousands = ',',encoding='UTF-8')\n",
        "times_df"
      ],
      "metadata": {
        "colab": {
          "base_uri": "https://localhost:8080/",
          "height": 468
        },
        "id": "9ZHovZAVLNLk",
        "outputId": "943d240a-d580-4e5e-9728-5bd058c09020"
      },
      "execution_count": null,
      "outputs": [
        {
          "output_type": "execute_result",
          "data": {
            "text/plain": [
              "     world_rank                        university_name  \\\n",
              "0             1                     Harvard University   \n",
              "1             2     California Institute of Technology   \n",
              "2             3  Massachusetts Institute of Technology   \n",
              "3             4                    Stanford University   \n",
              "4             5                   Princeton University   \n",
              "...         ...                                    ...   \n",
              "2598    601-800                    Yeungnam University   \n",
              "2599    601-800            Yıldız Technical University   \n",
              "2600    601-800               Yokohama City University   \n",
              "2601    601-800           Yokohama National University   \n",
              "2602    601-800                     Yuan Ze University   \n",
              "\n",
              "                       country  teaching international  research  citations  \\\n",
              "0     United States of America      99.7          72.4      98.7       98.8   \n",
              "1     United States of America      97.7          54.6      98.0       99.9   \n",
              "2     United States of America      97.8          82.3      91.4       99.9   \n",
              "3     United States of America      98.3          29.5      98.1       99.2   \n",
              "4     United States of America      90.9          70.3      95.4       99.9   \n",
              "...                        ...       ...           ...       ...        ...   \n",
              "2598               South Korea      18.6          24.3      10.9       26.5   \n",
              "2599                    Turkey      14.5          14.9       7.6       19.3   \n",
              "2600                     Japan      24.0          16.1      10.2       36.4   \n",
              "2601                     Japan      20.1          23.3      16.0       13.5   \n",
              "2602                    Taiwan      16.2          17.7      18.3       28.6   \n",
              "\n",
              "     income total_score  num_students  student_staff_ratio  \\\n",
              "0      34.5        96.1       20152.0                  8.9   \n",
              "1      83.7        96.0        2243.0                  6.9   \n",
              "2      87.5        95.6       11074.0                  9.0   \n",
              "3      64.3        94.3       15596.0                  7.8   \n",
              "4         -        94.2        7929.0                  8.4   \n",
              "...     ...         ...           ...                  ...   \n",
              "2598   35.4           -       21958.0                 15.3   \n",
              "2599   44.0           -       31268.0                 28.7   \n",
              "2600   37.9           -        4122.0                  3.7   \n",
              "2601   40.4           -       10117.0                 12.1   \n",
              "2602   39.8           -        8663.0                 20.6   \n",
              "\n",
              "     international_students female_male_ratio  year  \n",
              "0                       25%               NaN  2011  \n",
              "1                       27%           33 : 67  2011  \n",
              "2                       33%           37 : 63  2011  \n",
              "3                       22%           42 : 58  2011  \n",
              "4                       27%           45 : 55  2011  \n",
              "...                     ...               ...   ...  \n",
              "2598                     3%           48 : 52  2016  \n",
              "2599                     2%           36 : 64  2016  \n",
              "2600                     3%               NaN  2016  \n",
              "2601                     8%           28 : 72  2016  \n",
              "2602                     4%           43 : 57  2016  \n",
              "\n",
              "[2603 rows x 14 columns]"
            ],
            "text/html": [
              "\n",
              "  <div id=\"df-6d40032c-66ad-4e12-85cc-5c17cf397832\">\n",
              "    <div class=\"colab-df-container\">\n",
              "      <div>\n",
              "<style scoped>\n",
              "    .dataframe tbody tr th:only-of-type {\n",
              "        vertical-align: middle;\n",
              "    }\n",
              "\n",
              "    .dataframe tbody tr th {\n",
              "        vertical-align: top;\n",
              "    }\n",
              "\n",
              "    .dataframe thead th {\n",
              "        text-align: right;\n",
              "    }\n",
              "</style>\n",
              "<table border=\"1\" class=\"dataframe\">\n",
              "  <thead>\n",
              "    <tr style=\"text-align: right;\">\n",
              "      <th></th>\n",
              "      <th>world_rank</th>\n",
              "      <th>university_name</th>\n",
              "      <th>country</th>\n",
              "      <th>teaching</th>\n",
              "      <th>international</th>\n",
              "      <th>research</th>\n",
              "      <th>citations</th>\n",
              "      <th>income</th>\n",
              "      <th>total_score</th>\n",
              "      <th>num_students</th>\n",
              "      <th>student_staff_ratio</th>\n",
              "      <th>international_students</th>\n",
              "      <th>female_male_ratio</th>\n",
              "      <th>year</th>\n",
              "    </tr>\n",
              "  </thead>\n",
              "  <tbody>\n",
              "    <tr>\n",
              "      <th>0</th>\n",
              "      <td>1</td>\n",
              "      <td>Harvard University</td>\n",
              "      <td>United States of America</td>\n",
              "      <td>99.7</td>\n",
              "      <td>72.4</td>\n",
              "      <td>98.7</td>\n",
              "      <td>98.8</td>\n",
              "      <td>34.5</td>\n",
              "      <td>96.1</td>\n",
              "      <td>20152.0</td>\n",
              "      <td>8.9</td>\n",
              "      <td>25%</td>\n",
              "      <td>NaN</td>\n",
              "      <td>2011</td>\n",
              "    </tr>\n",
              "    <tr>\n",
              "      <th>1</th>\n",
              "      <td>2</td>\n",
              "      <td>California Institute of Technology</td>\n",
              "      <td>United States of America</td>\n",
              "      <td>97.7</td>\n",
              "      <td>54.6</td>\n",
              "      <td>98.0</td>\n",
              "      <td>99.9</td>\n",
              "      <td>83.7</td>\n",
              "      <td>96.0</td>\n",
              "      <td>2243.0</td>\n",
              "      <td>6.9</td>\n",
              "      <td>27%</td>\n",
              "      <td>33 : 67</td>\n",
              "      <td>2011</td>\n",
              "    </tr>\n",
              "    <tr>\n",
              "      <th>2</th>\n",
              "      <td>3</td>\n",
              "      <td>Massachusetts Institute of Technology</td>\n",
              "      <td>United States of America</td>\n",
              "      <td>97.8</td>\n",
              "      <td>82.3</td>\n",
              "      <td>91.4</td>\n",
              "      <td>99.9</td>\n",
              "      <td>87.5</td>\n",
              "      <td>95.6</td>\n",
              "      <td>11074.0</td>\n",
              "      <td>9.0</td>\n",
              "      <td>33%</td>\n",
              "      <td>37 : 63</td>\n",
              "      <td>2011</td>\n",
              "    </tr>\n",
              "    <tr>\n",
              "      <th>3</th>\n",
              "      <td>4</td>\n",
              "      <td>Stanford University</td>\n",
              "      <td>United States of America</td>\n",
              "      <td>98.3</td>\n",
              "      <td>29.5</td>\n",
              "      <td>98.1</td>\n",
              "      <td>99.2</td>\n",
              "      <td>64.3</td>\n",
              "      <td>94.3</td>\n",
              "      <td>15596.0</td>\n",
              "      <td>7.8</td>\n",
              "      <td>22%</td>\n",
              "      <td>42 : 58</td>\n",
              "      <td>2011</td>\n",
              "    </tr>\n",
              "    <tr>\n",
              "      <th>4</th>\n",
              "      <td>5</td>\n",
              "      <td>Princeton University</td>\n",
              "      <td>United States of America</td>\n",
              "      <td>90.9</td>\n",
              "      <td>70.3</td>\n",
              "      <td>95.4</td>\n",
              "      <td>99.9</td>\n",
              "      <td>-</td>\n",
              "      <td>94.2</td>\n",
              "      <td>7929.0</td>\n",
              "      <td>8.4</td>\n",
              "      <td>27%</td>\n",
              "      <td>45 : 55</td>\n",
              "      <td>2011</td>\n",
              "    </tr>\n",
              "    <tr>\n",
              "      <th>...</th>\n",
              "      <td>...</td>\n",
              "      <td>...</td>\n",
              "      <td>...</td>\n",
              "      <td>...</td>\n",
              "      <td>...</td>\n",
              "      <td>...</td>\n",
              "      <td>...</td>\n",
              "      <td>...</td>\n",
              "      <td>...</td>\n",
              "      <td>...</td>\n",
              "      <td>...</td>\n",
              "      <td>...</td>\n",
              "      <td>...</td>\n",
              "      <td>...</td>\n",
              "    </tr>\n",
              "    <tr>\n",
              "      <th>2598</th>\n",
              "      <td>601-800</td>\n",
              "      <td>Yeungnam University</td>\n",
              "      <td>South Korea</td>\n",
              "      <td>18.6</td>\n",
              "      <td>24.3</td>\n",
              "      <td>10.9</td>\n",
              "      <td>26.5</td>\n",
              "      <td>35.4</td>\n",
              "      <td>-</td>\n",
              "      <td>21958.0</td>\n",
              "      <td>15.3</td>\n",
              "      <td>3%</td>\n",
              "      <td>48 : 52</td>\n",
              "      <td>2016</td>\n",
              "    </tr>\n",
              "    <tr>\n",
              "      <th>2599</th>\n",
              "      <td>601-800</td>\n",
              "      <td>Yıldız Technical University</td>\n",
              "      <td>Turkey</td>\n",
              "      <td>14.5</td>\n",
              "      <td>14.9</td>\n",
              "      <td>7.6</td>\n",
              "      <td>19.3</td>\n",
              "      <td>44.0</td>\n",
              "      <td>-</td>\n",
              "      <td>31268.0</td>\n",
              "      <td>28.7</td>\n",
              "      <td>2%</td>\n",
              "      <td>36 : 64</td>\n",
              "      <td>2016</td>\n",
              "    </tr>\n",
              "    <tr>\n",
              "      <th>2600</th>\n",
              "      <td>601-800</td>\n",
              "      <td>Yokohama City University</td>\n",
              "      <td>Japan</td>\n",
              "      <td>24.0</td>\n",
              "      <td>16.1</td>\n",
              "      <td>10.2</td>\n",
              "      <td>36.4</td>\n",
              "      <td>37.9</td>\n",
              "      <td>-</td>\n",
              "      <td>4122.0</td>\n",
              "      <td>3.7</td>\n",
              "      <td>3%</td>\n",
              "      <td>NaN</td>\n",
              "      <td>2016</td>\n",
              "    </tr>\n",
              "    <tr>\n",
              "      <th>2601</th>\n",
              "      <td>601-800</td>\n",
              "      <td>Yokohama National University</td>\n",
              "      <td>Japan</td>\n",
              "      <td>20.1</td>\n",
              "      <td>23.3</td>\n",
              "      <td>16.0</td>\n",
              "      <td>13.5</td>\n",
              "      <td>40.4</td>\n",
              "      <td>-</td>\n",
              "      <td>10117.0</td>\n",
              "      <td>12.1</td>\n",
              "      <td>8%</td>\n",
              "      <td>28 : 72</td>\n",
              "      <td>2016</td>\n",
              "    </tr>\n",
              "    <tr>\n",
              "      <th>2602</th>\n",
              "      <td>601-800</td>\n",
              "      <td>Yuan Ze University</td>\n",
              "      <td>Taiwan</td>\n",
              "      <td>16.2</td>\n",
              "      <td>17.7</td>\n",
              "      <td>18.3</td>\n",
              "      <td>28.6</td>\n",
              "      <td>39.8</td>\n",
              "      <td>-</td>\n",
              "      <td>8663.0</td>\n",
              "      <td>20.6</td>\n",
              "      <td>4%</td>\n",
              "      <td>43 : 57</td>\n",
              "      <td>2016</td>\n",
              "    </tr>\n",
              "  </tbody>\n",
              "</table>\n",
              "<p>2603 rows × 14 columns</p>\n",
              "</div>\n",
              "      <button class=\"colab-df-convert\" onclick=\"convertToInteractive('df-6d40032c-66ad-4e12-85cc-5c17cf397832')\"\n",
              "              title=\"Convert this dataframe to an interactive table.\"\n",
              "              style=\"display:none;\">\n",
              "        \n",
              "  <svg xmlns=\"http://www.w3.org/2000/svg\" height=\"24px\"viewBox=\"0 0 24 24\"\n",
              "       width=\"24px\">\n",
              "    <path d=\"M0 0h24v24H0V0z\" fill=\"none\"/>\n",
              "    <path d=\"M18.56 5.44l.94 2.06.94-2.06 2.06-.94-2.06-.94-.94-2.06-.94 2.06-2.06.94zm-11 1L8.5 8.5l.94-2.06 2.06-.94-2.06-.94L8.5 2.5l-.94 2.06-2.06.94zm10 10l.94 2.06.94-2.06 2.06-.94-2.06-.94-.94-2.06-.94 2.06-2.06.94z\"/><path d=\"M17.41 7.96l-1.37-1.37c-.4-.4-.92-.59-1.43-.59-.52 0-1.04.2-1.43.59L10.3 9.45l-7.72 7.72c-.78.78-.78 2.05 0 2.83L4 21.41c.39.39.9.59 1.41.59.51 0 1.02-.2 1.41-.59l7.78-7.78 2.81-2.81c.8-.78.8-2.07 0-2.86zM5.41 20L4 18.59l7.72-7.72 1.47 1.35L5.41 20z\"/>\n",
              "  </svg>\n",
              "      </button>\n",
              "      \n",
              "  <style>\n",
              "    .colab-df-container {\n",
              "      display:flex;\n",
              "      flex-wrap:wrap;\n",
              "      gap: 12px;\n",
              "    }\n",
              "\n",
              "    .colab-df-convert {\n",
              "      background-color: #E8F0FE;\n",
              "      border: none;\n",
              "      border-radius: 50%;\n",
              "      cursor: pointer;\n",
              "      display: none;\n",
              "      fill: #1967D2;\n",
              "      height: 32px;\n",
              "      padding: 0 0 0 0;\n",
              "      width: 32px;\n",
              "    }\n",
              "\n",
              "    .colab-df-convert:hover {\n",
              "      background-color: #E2EBFA;\n",
              "      box-shadow: 0px 1px 2px rgba(60, 64, 67, 0.3), 0px 1px 3px 1px rgba(60, 64, 67, 0.15);\n",
              "      fill: #174EA6;\n",
              "    }\n",
              "\n",
              "    [theme=dark] .colab-df-convert {\n",
              "      background-color: #3B4455;\n",
              "      fill: #D2E3FC;\n",
              "    }\n",
              "\n",
              "    [theme=dark] .colab-df-convert:hover {\n",
              "      background-color: #434B5C;\n",
              "      box-shadow: 0px 1px 3px 1px rgba(0, 0, 0, 0.15);\n",
              "      filter: drop-shadow(0px 1px 2px rgba(0, 0, 0, 0.3));\n",
              "      fill: #FFFFFF;\n",
              "    }\n",
              "  </style>\n",
              "\n",
              "      <script>\n",
              "        const buttonEl =\n",
              "          document.querySelector('#df-6d40032c-66ad-4e12-85cc-5c17cf397832 button.colab-df-convert');\n",
              "        buttonEl.style.display =\n",
              "          google.colab.kernel.accessAllowed ? 'block' : 'none';\n",
              "\n",
              "        async function convertToInteractive(key) {\n",
              "          const element = document.querySelector('#df-6d40032c-66ad-4e12-85cc-5c17cf397832');\n",
              "          const dataTable =\n",
              "            await google.colab.kernel.invokeFunction('convertToInteractive',\n",
              "                                                     [key], {});\n",
              "          if (!dataTable) return;\n",
              "\n",
              "          const docLinkHtml = 'Like what you see? Visit the ' +\n",
              "            '<a target=\"_blank\" href=https://colab.research.google.com/notebooks/data_table.ipynb>data table notebook</a>'\n",
              "            + ' to learn more about interactive tables.';\n",
              "          element.innerHTML = '';\n",
              "          dataTable['output_type'] = 'display_data';\n",
              "          await google.colab.output.renderOutput(dataTable, element);\n",
              "          const docLink = document.createElement('div');\n",
              "          docLink.innerHTML = docLinkHtml;\n",
              "          element.appendChild(docLink);\n",
              "        }\n",
              "      </script>\n",
              "    </div>\n",
              "  </div>\n",
              "  "
            ]
          },
          "metadata": {},
          "execution_count": 3
        }
      ]
    },
    {
      "cell_type": "code",
      "source": [
        "#타임스 대학순위 분석_랭킹순위예측\n",
        "#보팅앙상블 수치예측실습\n",
        "#데이터 전처리\n",
        "times_df['country'].unique()"
      ],
      "metadata": {
        "colab": {
          "base_uri": "https://localhost:8080/"
        },
        "id": "qZVKTUPPR679",
        "outputId": "f898e8f0-e123-414c-f1c4-4b89c318dd95"
      },
      "execution_count": null,
      "outputs": [
        {
          "output_type": "execute_result",
          "data": {
            "text/plain": [
              "array(['United States of America', 'United Kingdom', 'Switzerland',\n",
              "       'Canada', 'Hong Kong', 'Japan', 'South Korea', 'Singapore',\n",
              "       'Australia', 'China', 'France', 'Sweden', 'Germany',\n",
              "       'Republic of Ireland', 'Finland', 'Taiwan', 'South Africa',\n",
              "       'Turkey', 'Netherlands', 'Belgium', 'Denmark', 'Norway', 'Spain',\n",
              "       'New Zealand', 'Egypt', 'Austria', 'Israel', 'Brazil', 'Italy',\n",
              "       'Russian Federation', 'Greece', 'Iceland', 'Czech Republic',\n",
              "       'India', 'Poland', 'Iran', 'Portugal', 'Thailand', 'Chile',\n",
              "       'Estonia', 'Saudi Arabia', 'Mexico', 'Colombia', 'Macau',\n",
              "       'Morocco', 'Luxembourg', 'Unisted States of America', 'Cyprus',\n",
              "       'Unted Kingdom', 'Uganda', 'Malaysia', 'Lebanon', 'Romania',\n",
              "       'Slovenia', 'Pakistan', 'Hungary', 'United Arab Emirates',\n",
              "       'Belarus', 'Serbia', 'Slovakia', 'Bangladesh', 'Ghana', 'Nigeria',\n",
              "       'Indonesia', 'Jordan', 'Latvia', 'Kenya', 'Argentina', 'Qatar',\n",
              "       'Oman', 'Ukraine', 'Lithuania'], dtype=object)"
            ]
          },
          "metadata": {},
          "execution_count": 4
        }
      ]
    },
    {
      "cell_type": "code",
      "source": [
        "times_df.info()"
      ],
      "metadata": {
        "colab": {
          "base_uri": "https://localhost:8080/"
        },
        "id": "nsh7f6KzXh3U",
        "outputId": "1dc1b9b9-5b27-43e3-b2f8-ed5b0a75b690"
      },
      "execution_count": null,
      "outputs": [
        {
          "output_type": "stream",
          "name": "stdout",
          "text": [
            "<class 'pandas.core.frame.DataFrame'>\n",
            "RangeIndex: 2603 entries, 0 to 2602\n",
            "Data columns (total 14 columns):\n",
            " #   Column                  Non-Null Count  Dtype  \n",
            "---  ------                  --------------  -----  \n",
            " 0   world_rank              2603 non-null   object \n",
            " 1   university_name         2603 non-null   object \n",
            " 2   country                 2603 non-null   object \n",
            " 3   teaching                2603 non-null   float64\n",
            " 4   international           2603 non-null   object \n",
            " 5   research                2603 non-null   float64\n",
            " 6   citations               2603 non-null   float64\n",
            " 7   income                  2603 non-null   object \n",
            " 8   total_score             2603 non-null   object \n",
            " 9   num_students            2544 non-null   float64\n",
            " 10  student_staff_ratio     2544 non-null   float64\n",
            " 11  international_students  2536 non-null   object \n",
            " 12  female_male_ratio       2370 non-null   object \n",
            " 13  year                    2603 non-null   int64  \n",
            "dtypes: float64(5), int64(1), object(8)\n",
            "memory usage: 284.8+ KB\n"
          ]
        }
      ]
    },
    {
      "cell_type": "code",
      "source": [
        "times_df.columns"
      ],
      "metadata": {
        "colab": {
          "base_uri": "https://localhost:8080/"
        },
        "id": "AOaT21-ISg_2",
        "outputId": "893eebff-9b19-439a-e84e-6ca14d51325d"
      },
      "execution_count": null,
      "outputs": [
        {
          "output_type": "execute_result",
          "data": {
            "text/plain": [
              "Index(['world_rank', 'university_name', 'country', 'teaching', 'international',\n",
              "       'research', 'citations', 'income', 'total_score', 'num_students',\n",
              "       'student_staff_ratio', 'international_students', 'female_male_ratio',\n",
              "       'year'],\n",
              "      dtype='object')"
            ]
          },
          "metadata": {},
          "execution_count": 6
        }
      ]
    },
    {
      "cell_type": "code",
      "source": [
        "#결측값 확인\n",
        "times_df.isnull().sum()"
      ],
      "metadata": {
        "colab": {
          "base_uri": "https://localhost:8080/"
        },
        "id": "W72EwOchX_No",
        "outputId": "c1d13d52-aeca-4041-bf23-d46844413081"
      },
      "execution_count": null,
      "outputs": [
        {
          "output_type": "execute_result",
          "data": {
            "text/plain": [
              "world_rank                  0\n",
              "university_name             0\n",
              "country                     0\n",
              "teaching                    0\n",
              "international               0\n",
              "research                    0\n",
              "citations                   0\n",
              "income                      0\n",
              "total_score                 0\n",
              "num_students               59\n",
              "student_staff_ratio        59\n",
              "international_students     67\n",
              "female_male_ratio         233\n",
              "year                        0\n",
              "dtype: int64"
            ]
          },
          "metadata": {},
          "execution_count": 7
        }
      ]
    },
    {
      "cell_type": "code",
      "source": [
        "#결측값 제거\n",
        "#times_df=times_df.drop('female_male_ratio',axis=1)\n",
        "times_df=times_df.dropna()\n",
        "#times_df['student_staff_ratio']=times_df['student_staff_ratio'].dropna()\n",
        "#times_df['international_students']=times_df['international_students'].dropna()\n",
        "#female_male_ratio는 사용 x"
      ],
      "metadata": {
        "id": "iI7oBVz9YIvO"
      },
      "execution_count": null,
      "outputs": []
    },
    {
      "cell_type": "code",
      "source": [
        "times_df.isnull().sum()"
      ],
      "metadata": {
        "colab": {
          "base_uri": "https://localhost:8080/"
        },
        "id": "-gKW8WtvY4VQ",
        "outputId": "40a90196-cbe3-4201-cf28-2c5fa905b1a6"
      },
      "execution_count": null,
      "outputs": [
        {
          "output_type": "execute_result",
          "data": {
            "text/plain": [
              "world_rank                0\n",
              "university_name           0\n",
              "country                   0\n",
              "teaching                  0\n",
              "international             0\n",
              "research                  0\n",
              "citations                 0\n",
              "income                    0\n",
              "total_score               0\n",
              "num_students              0\n",
              "student_staff_ratio       0\n",
              "international_students    0\n",
              "female_male_ratio         0\n",
              "year                      0\n",
              "dtype: int64"
            ]
          },
          "metadata": {},
          "execution_count": 9
        }
      ]
    },
    {
      "cell_type": "code",
      "source": [
        "times_df['international']=times_df['international'].replace('-',0)\n",
        "times_df['international_students']=times_df['international_students'].str.replace('%', '').astype('int64')"
      ],
      "metadata": {
        "colab": {
          "base_uri": "https://localhost:8080/"
        },
        "id": "QWh5Qg4YUkat",
        "outputId": "740343e6-b3d7-419f-a314-a4f2ca28214d"
      },
      "execution_count": null,
      "outputs": [
        {
          "output_type": "stream",
          "name": "stderr",
          "text": [
            "/usr/local/lib/python3.7/dist-packages/ipykernel_launcher.py:1: SettingWithCopyWarning: \n",
            "A value is trying to be set on a copy of a slice from a DataFrame.\n",
            "Try using .loc[row_indexer,col_indexer] = value instead\n",
            "\n",
            "See the caveats in the documentation: https://pandas.pydata.org/pandas-docs/stable/user_guide/indexing.html#returning-a-view-versus-a-copy\n",
            "  \"\"\"Entry point for launching an IPython kernel.\n",
            "/usr/local/lib/python3.7/dist-packages/ipykernel_launcher.py:2: SettingWithCopyWarning: \n",
            "A value is trying to be set on a copy of a slice from a DataFrame.\n",
            "Try using .loc[row_indexer,col_indexer] = value instead\n",
            "\n",
            "See the caveats in the documentation: https://pandas.pydata.org/pandas-docs/stable/user_guide/indexing.html#returning-a-view-versus-a-copy\n",
            "  \n"
          ]
        }
      ]
    },
    {
      "cell_type": "code",
      "source": [
        "times_df=times_df[~times_df['world_rank'].str.contains(\"-\", na=False, case=False)]\n",
        "times_df['world_rank']=times_df['world_rank'].str.replace('=', '').astype('int64')\n",
        "times_df['world_rank']"
      ],
      "metadata": {
        "colab": {
          "base_uri": "https://localhost:8080/"
        },
        "id": "LYxtx0MFbgxY",
        "outputId": "57d19774-fe7c-4796-ad85-3d6db24502a4"
      },
      "execution_count": null,
      "outputs": [
        {
          "output_type": "stream",
          "name": "stderr",
          "text": [
            "/usr/local/lib/python3.7/dist-packages/ipykernel_launcher.py:2: SettingWithCopyWarning: \n",
            "A value is trying to be set on a copy of a slice from a DataFrame.\n",
            "Try using .loc[row_indexer,col_indexer] = value instead\n",
            "\n",
            "See the caveats in the documentation: https://pandas.pydata.org/pandas-docs/stable/user_guide/indexing.html#returning-a-view-versus-a-copy\n",
            "  \n"
          ]
        },
        {
          "output_type": "execute_result",
          "data": {
            "text/plain": [
              "1         2\n",
              "2         3\n",
              "3         4\n",
              "4         5\n",
              "5         6\n",
              "       ... \n",
              "1998    196\n",
              "1999    196\n",
              "2000    198\n",
              "2001    199\n",
              "2002    200\n",
              "Name: world_rank, Length: 1077, dtype: int64"
            ]
          },
          "metadata": {},
          "execution_count": 11
        }
      ]
    },
    {
      "cell_type": "code",
      "source": [
        "times_df.info()"
      ],
      "metadata": {
        "colab": {
          "base_uri": "https://localhost:8080/"
        },
        "id": "wi1J9doy3z5H",
        "outputId": "8e7732e9-5cbb-49f0-9477-81fbd1f9550f"
      },
      "execution_count": null,
      "outputs": [
        {
          "output_type": "stream",
          "name": "stdout",
          "text": [
            "<class 'pandas.core.frame.DataFrame'>\n",
            "Int64Index: 1077 entries, 1 to 2002\n",
            "Data columns (total 14 columns):\n",
            " #   Column                  Non-Null Count  Dtype  \n",
            "---  ------                  --------------  -----  \n",
            " 0   world_rank              1077 non-null   int64  \n",
            " 1   university_name         1077 non-null   object \n",
            " 2   country                 1077 non-null   object \n",
            " 3   teaching                1077 non-null   float64\n",
            " 4   international           1077 non-null   object \n",
            " 5   research                1077 non-null   float64\n",
            " 6   citations               1077 non-null   float64\n",
            " 7   income                  1077 non-null   object \n",
            " 8   total_score             1077 non-null   object \n",
            " 9   num_students            1077 non-null   float64\n",
            " 10  student_staff_ratio     1077 non-null   float64\n",
            " 11  international_students  1077 non-null   int64  \n",
            " 12  female_male_ratio       1077 non-null   object \n",
            " 13  year                    1077 non-null   int64  \n",
            "dtypes: float64(5), int64(3), object(6)\n",
            "memory usage: 126.2+ KB\n"
          ]
        }
      ]
    },
    {
      "cell_type": "code",
      "source": [
        "times_df['teaching']=times_df['teaching'].astype('int64')\n",
        "times_df['international']=times_df['international'].astype('float64')\n",
        "times_df['international']=times_df['international'].astype('int64')\n",
        "times_df['research']=times_df['research'].astype('int64')\n",
        "times_df['citations']=times_df['citations'].astype('int64')\n",
        "times_df['num_students']=times_df['num_students'].astype('int64')\n",
        "times_df['student_staff_ratio']=times_df['student_staff_ratio'].astype('int64')\n",
        "times_df.info()"
      ],
      "metadata": {
        "colab": {
          "base_uri": "https://localhost:8080/"
        },
        "id": "49WWe4s039j9",
        "outputId": "9eb5d090-4f6e-4b0d-847d-051a19338a90"
      },
      "execution_count": null,
      "outputs": [
        {
          "output_type": "stream",
          "name": "stdout",
          "text": [
            "<class 'pandas.core.frame.DataFrame'>\n",
            "Int64Index: 1077 entries, 1 to 2002\n",
            "Data columns (total 14 columns):\n",
            " #   Column                  Non-Null Count  Dtype \n",
            "---  ------                  --------------  ----- \n",
            " 0   world_rank              1077 non-null   int64 \n",
            " 1   university_name         1077 non-null   object\n",
            " 2   country                 1077 non-null   object\n",
            " 3   teaching                1077 non-null   int64 \n",
            " 4   international           1077 non-null   int64 \n",
            " 5   research                1077 non-null   int64 \n",
            " 6   citations               1077 non-null   int64 \n",
            " 7   income                  1077 non-null   object\n",
            " 8   total_score             1077 non-null   object\n",
            " 9   num_students            1077 non-null   int64 \n",
            " 10  student_staff_ratio     1077 non-null   int64 \n",
            " 11  international_students  1077 non-null   int64 \n",
            " 12  female_male_ratio       1077 non-null   object\n",
            " 13  year                    1077 non-null   int64 \n",
            "dtypes: int64(9), object(5)\n",
            "memory usage: 126.2+ KB\n"
          ]
        },
        {
          "output_type": "stream",
          "name": "stderr",
          "text": [
            "/usr/local/lib/python3.7/dist-packages/ipykernel_launcher.py:1: SettingWithCopyWarning: \n",
            "A value is trying to be set on a copy of a slice from a DataFrame.\n",
            "Try using .loc[row_indexer,col_indexer] = value instead\n",
            "\n",
            "See the caveats in the documentation: https://pandas.pydata.org/pandas-docs/stable/user_guide/indexing.html#returning-a-view-versus-a-copy\n",
            "  \"\"\"Entry point for launching an IPython kernel.\n",
            "/usr/local/lib/python3.7/dist-packages/ipykernel_launcher.py:2: SettingWithCopyWarning: \n",
            "A value is trying to be set on a copy of a slice from a DataFrame.\n",
            "Try using .loc[row_indexer,col_indexer] = value instead\n",
            "\n",
            "See the caveats in the documentation: https://pandas.pydata.org/pandas-docs/stable/user_guide/indexing.html#returning-a-view-versus-a-copy\n",
            "  \n",
            "/usr/local/lib/python3.7/dist-packages/ipykernel_launcher.py:3: SettingWithCopyWarning: \n",
            "A value is trying to be set on a copy of a slice from a DataFrame.\n",
            "Try using .loc[row_indexer,col_indexer] = value instead\n",
            "\n",
            "See the caveats in the documentation: https://pandas.pydata.org/pandas-docs/stable/user_guide/indexing.html#returning-a-view-versus-a-copy\n",
            "  This is separate from the ipykernel package so we can avoid doing imports until\n",
            "/usr/local/lib/python3.7/dist-packages/ipykernel_launcher.py:4: SettingWithCopyWarning: \n",
            "A value is trying to be set on a copy of a slice from a DataFrame.\n",
            "Try using .loc[row_indexer,col_indexer] = value instead\n",
            "\n",
            "See the caveats in the documentation: https://pandas.pydata.org/pandas-docs/stable/user_guide/indexing.html#returning-a-view-versus-a-copy\n",
            "  after removing the cwd from sys.path.\n",
            "/usr/local/lib/python3.7/dist-packages/ipykernel_launcher.py:5: SettingWithCopyWarning: \n",
            "A value is trying to be set on a copy of a slice from a DataFrame.\n",
            "Try using .loc[row_indexer,col_indexer] = value instead\n",
            "\n",
            "See the caveats in the documentation: https://pandas.pydata.org/pandas-docs/stable/user_guide/indexing.html#returning-a-view-versus-a-copy\n",
            "  \"\"\"\n",
            "/usr/local/lib/python3.7/dist-packages/ipykernel_launcher.py:6: SettingWithCopyWarning: \n",
            "A value is trying to be set on a copy of a slice from a DataFrame.\n",
            "Try using .loc[row_indexer,col_indexer] = value instead\n",
            "\n",
            "See the caveats in the documentation: https://pandas.pydata.org/pandas-docs/stable/user_guide/indexing.html#returning-a-view-versus-a-copy\n",
            "  \n",
            "/usr/local/lib/python3.7/dist-packages/ipykernel_launcher.py:7: SettingWithCopyWarning: \n",
            "A value is trying to be set on a copy of a slice from a DataFrame.\n",
            "Try using .loc[row_indexer,col_indexer] = value instead\n",
            "\n",
            "See the caveats in the documentation: https://pandas.pydata.org/pandas-docs/stable/user_guide/indexing.html#returning-a-view-versus-a-copy\n",
            "  import sys\n"
          ]
        }
      ]
    },
    {
      "cell_type": "code",
      "source": [
        "#독립변수 및 종속변수 데이터 지정\n",
        "X=times_df[['teaching', 'international','research', 'citations','num_students',\n",
        "       'student_staff_ratio', 'international_students','year']]\n",
        "Y=times_df['world_rank']"
      ],
      "metadata": {
        "id": "DJn5hjS8N0aR"
      },
      "execution_count": null,
      "outputs": []
    },
    {
      "cell_type": "code",
      "source": [
        "#데이터 분할 및 표준화\n",
        "X_train, X_test, Y_train, Y_test=train_test_split(X,Y,test_size=0.3,random_state=0)\n",
        "scaler=StandardScaler()\n",
        "scaler.fit(X_train)\n",
        "X_test=scaler.transform(X_test)\n",
        "X_train=scaler.transform(X_train)"
      ],
      "metadata": {
        "id": "VPtn78wWTKI1"
      },
      "execution_count": null,
      "outputs": []
    },
    {
      "cell_type": "code",
      "source": [
        "#모형학습 및 예측\n",
        "from sklearn.ensemble import VotingRegressor\n",
        "from sklearn.neural_network import MLPRegressor\n",
        "from sklearn.tree import DecisionTreeRegressor\n",
        "from sklearn.neighbors import KNeighborsRegressor\n",
        "from sklearn.svm import SVR\n",
        "\n",
        "#단일 모형 객체 생성(svr모형, 인공신경망, 의사결정나무, k최근접이웃)\n",
        "svr=SVR()\n",
        "mlp=MLPRegressor(random_state=0)\n",
        "dt=DecisionTreeRegressor()\n",
        "knn=KNeighborsRegressor()\n",
        "\n",
        "model=VotingRegressor(estimators=[('SVR',svr),('MLP',mlp),('DT',dt),('KNN',knn)])\n",
        "\n",
        "model.fit(X_train, Y_train)\n",
        "Y_pred=model.predict(X_test)\n",
        "print('평가용 데이터 세트에 대한 예측값\\n', Y_pred)"
      ],
      "metadata": {
        "colab": {
          "base_uri": "https://localhost:8080/"
        },
        "id": "J0nKYradZjBU",
        "outputId": "80a23e36-ba08-4ce9-e0f3-7e3e61906ac3"
      },
      "execution_count": null,
      "outputs": [
        {
          "output_type": "stream",
          "name": "stdout",
          "text": [
            "평가용 데이터 세트에 대한 예측값\n",
            " [ 84.10260434 101.046322    17.48508135 125.18574058  36.21250413\n",
            "  20.19422448  98.11955056  21.03089253 127.04101962 155.91921997\n",
            "  19.53697604  37.58614195  98.17142265  37.51621811  46.33263535\n",
            " 124.28904543 133.57589199 104.48242073  50.21671394  88.00731433\n",
            " 111.64785773 171.55624585 129.21675477 148.71390773 162.74771322\n",
            " 121.75183938 140.6551327  100.61499297  22.96696465  46.96915102\n",
            " 157.23673632  27.15987436 110.93705952 116.10485058  19.42992101\n",
            "  82.57339449 133.99324995 130.43529765 105.66096207 177.79487885\n",
            " 109.10781567 101.71030444 129.77019454 105.09907988 151.88206719\n",
            "  86.937048    51.95984697 137.88310707 155.40593679 108.76300036\n",
            "  66.33202748 108.64500553  77.79852474 159.68850639  28.37384068\n",
            "  14.80431467  32.80623359  99.06029388 153.30587941 108.5733303\n",
            " 155.94218495  22.19957423 155.31210925 100.31985707  28.49387487\n",
            "  45.00303061 157.08045126  56.94303547  11.01613777 154.34385381\n",
            " 144.20170078  11.70066973 123.58388327  55.76127887  93.69583781\n",
            "  78.49696263 100.17169163  52.26819795 143.54799441 143.24920138\n",
            "  23.32621007  78.38452027 165.24474483  90.64011587 153.9704076\n",
            " 156.05401345  85.0335316  133.30992882 139.78061978  15.05045693\n",
            " 117.71832668  86.18586971 123.37932518 160.41209953  75.07205221\n",
            " 125.42595305 161.45659644  10.06227297 161.62382179  67.11778147\n",
            " 121.22346261 112.95183904 122.4772891  105.85170293  92.13954749\n",
            " 146.86946055  85.26130895  96.75294519 142.16755627 141.95564352\n",
            "  92.63078145 116.47903435  30.21577973 132.71787827 129.57227938\n",
            " 132.5413025  109.61492219 130.68135577  14.53271765  12.26024701\n",
            " 139.01125252 159.42401043 102.19627933  95.33942676 129.50665149\n",
            " 130.68688767  44.40100527  20.80485173 108.09048305  81.54602396\n",
            "  11.32591505 163.92631109  98.11939063 124.23817482  51.01216539\n",
            "  33.66488025 140.66763726  93.15430088 174.32157849 152.77200417\n",
            "  13.06311273 141.52839071  35.00180235  17.08581534 109.40988565\n",
            " 113.15144139  29.20483899 124.84941233 100.4078614   96.725363\n",
            " 122.84421467 126.24475335  64.31815511 163.54679962  44.28818552\n",
            "  76.62098954  16.31268433 154.94246454 114.16522016  42.03881053\n",
            " 141.65127878 117.82296264 154.55737748 156.2667567   86.9001511\n",
            "  54.74421593 117.30638427 147.77553416 118.65047396 173.64770544\n",
            " 164.82034234 149.80793215  80.95943302 111.65763821  10.75781774\n",
            " 143.69000825  42.75339788 154.81453038 161.17748496 159.40496354\n",
            " 144.44492002 120.57500311  25.15566499 141.39181785  15.34632615\n",
            "  24.8111277   30.95028351  82.46232349  92.57758124  27.11948254\n",
            "  17.49078877 165.61249492  56.01675639 159.20901518 159.19261728\n",
            " 148.49359865  87.67103037 159.72038426 147.42249907 101.24292917\n",
            "  23.1355389   95.10169559  84.2048721   68.35781753  15.92856603\n",
            "  69.64373092 101.6362752  110.16312025 163.76317804  40.29762274\n",
            "  21.29908185 114.1275626  121.04701375 142.31162506 154.80016436\n",
            " 131.30294457 112.75175714 119.3282699   73.87357785  54.97355309\n",
            "  14.44027995  33.23324333 170.75956426 129.08264945  16.91830821\n",
            " 152.82541581 132.67914792 175.87577049  18.90990411 124.80358444\n",
            "  77.67213646  15.55502355 123.44868292 131.64963442  56.90112111\n",
            "  68.15494473 103.89051049 129.84906408 165.10471094 149.9021273\n",
            "  44.96915002  40.77588911 135.58026334  74.22599583 148.02394693\n",
            "  16.38306256  52.17163525  62.93951406  95.83750339 159.64004179\n",
            " 136.56881373  32.59363158  34.89846647 177.26620146 134.44839135\n",
            "  58.45947542 138.58406661 156.64337713 142.31247851 104.32729048\n",
            "  34.94422461 108.64450394 166.33536565  34.556239   152.40686805\n",
            "  89.54660311  99.74710647  68.10013031 136.66577754 148.97750791\n",
            " 151.24536987 101.80263791  66.3539199   48.60951644 138.22250939\n",
            "  97.67659664 140.46430298 128.88088345 109.29067027 123.44782307\n",
            " 160.23511254  56.37394978 110.86746269 158.956954    60.83897066\n",
            "  62.37337607  17.66671507  96.40257499 168.25678753  93.11564706\n",
            "  79.47525922 157.51810638 169.8237506  137.52226425 164.95335746\n",
            "  62.8125285   70.63203616  41.56169556 135.57054431  78.20613822\n",
            "  90.07375085 138.6234749   15.07919801  91.0677567   12.16918264\n",
            " 115.80449378  81.9875286   20.05648046  13.07009646 136.7907611\n",
            "  16.99325455 160.40189404 117.02437354 104.68423751  20.39223392\n",
            " 105.93088532 127.96386827  54.14953784 141.36119209 110.24121356\n",
            " 111.96391794 144.12176713 125.79598003  70.66934469]\n"
          ]
        },
        {
          "output_type": "stream",
          "name": "stderr",
          "text": [
            "/usr/local/lib/python3.7/dist-packages/sklearn/neural_network/_multilayer_perceptron.py:696: ConvergenceWarning: Stochastic Optimizer: Maximum iterations (200) reached and the optimization hasn't converged yet.\n",
            "  ConvergenceWarning,\n"
          ]
        }
      ]
    },
    {
      "cell_type": "code",
      "source": [
        "#보팅 모형의 훈련 a및 테스트 결정계수\n",
        "model.fit(X_train, Y_train)\n",
        "print('Voting 앙상블 훈련 결정계수: {0:.3f}'.format(model.score(X_train,Y_train)))\n",
        "print('Voting 앙상블 테스트 결정계수: {0:.3f}'.format(model.score(X_test,Y_test)))\n",
        "times_vote=model.score(X_test,Y_test)\n",
        "times_vote_sub=abs(model.score(X_test,Y_test)-model.score(X_train,Y_train))\n",
        "#개별모형의 훈련 및 테스트결정계수\n",
        "Regressors=[svr,mlp,dt,knn]\n",
        "i=0\n",
        "times_list=[]\n",
        "times_sub_list=[]\n",
        "for Regressor in Regressors:\n",
        "  Regressor.fit(X_train, Y_train)\n",
        "  class_name=Regressor.__class__.__name__\n",
        "  print('{0} 훈련 결정계수: {1:.3f}'.format(class_name,Regressor.score(X_train, Y_train)))\n",
        "  print('{0} 테스트 결정계수: {1:.3f}'.format(class_name,Regressor.score(X_test, Y_test)))\n",
        "  times_list.append(Regressor.score(X_test, Y_test))\n",
        "  times_sub_list.append(abs(Regressor.score(X_test,Y_test)-Regressor.score(X_train,Y_train)))\n"
      ],
      "metadata": {
        "colab": {
          "base_uri": "https://localhost:8080/"
        },
        "id": "VXnEDsnzegVP",
        "outputId": "dd7db9e1-a1a6-4ab3-9284-02fd859da04d"
      },
      "execution_count": null,
      "outputs": [
        {
          "output_type": "stream",
          "name": "stderr",
          "text": [
            "/usr/local/lib/python3.7/dist-packages/sklearn/neural_network/_multilayer_perceptron.py:696: ConvergenceWarning: Stochastic Optimizer: Maximum iterations (200) reached and the optimization hasn't converged yet.\n",
            "  ConvergenceWarning,\n"
          ]
        },
        {
          "output_type": "stream",
          "name": "stdout",
          "text": [
            "Voting 앙상블 훈련 결정계수: 0.947\n",
            "Voting 앙상블 테스트 결정계수: 0.926\n",
            "SVR 훈련 결정계수: 0.712\n",
            "SVR 테스트 결정계수: 0.734\n",
            "MLPRegressor 훈련 결정계수: 0.891\n",
            "MLPRegressor 테스트 결정계수: 0.898\n",
            "DecisionTreeRegressor 훈련 결정계수: 1.000\n",
            "DecisionTreeRegressor 테스트 결정계수: 0.876\n",
            "KNeighborsRegressor 훈련 결정계수: 0.927\n",
            "KNeighborsRegressor 테스트 결정계수: 0.901\n"
          ]
        },
        {
          "output_type": "stream",
          "name": "stderr",
          "text": [
            "/usr/local/lib/python3.7/dist-packages/sklearn/neural_network/_multilayer_perceptron.py:696: ConvergenceWarning: Stochastic Optimizer: Maximum iterations (200) reached and the optimization hasn't converged yet.\n",
            "  ConvergenceWarning,\n"
          ]
        }
      ]
    },
    {
      "cell_type": "code",
      "source": [
        "#모형평가\n",
        "from sklearn.metrics import mean_squared_error\n",
        "from math import sqrt\n",
        "\n",
        "rmse=sqrt(mean_squared_error(Y_test,Y_pred))\n",
        "print('RMSE: {:.3f}'.format(rmse))\n",
        "times_vote_rmse=rmse"
      ],
      "metadata": {
        "colab": {
          "base_uri": "https://localhost:8080/"
        },
        "id": "_dQHs9jAgZmC",
        "outputId": "76188f0b-4057-46e7-f6cc-dff9a2914ab0"
      },
      "execution_count": null,
      "outputs": [
        {
          "output_type": "stream",
          "name": "stdout",
          "text": [
            "RMSE: 15.236\n"
          ]
        }
      ]
    },
    {
      "cell_type": "code",
      "source": [
        "#타임스 대학순위 분석_랭킹순위예측\n",
        "#랜덤포레스트 수치예측실습\n",
        "X=times_df[['teaching', 'international','research', 'citations','num_students',\n",
        "       'student_staff_ratio', 'international_students','year']]\n",
        "Y=times_df['world_rank']\n",
        "X_train, X_test, Y_train, Y_test=train_test_split(X,Y,test_size=0.3,random_state=0)"
      ],
      "metadata": {
        "id": "cKjT9yr7hTmh"
      },
      "execution_count": null,
      "outputs": []
    },
    {
      "cell_type": "code",
      "source": [
        "#모형 학습 및 예측\n",
        "from sklearn.ensemble import RandomForestRegressor\n",
        "model=RandomForestRegressor(random_state=0, n_estimators=100, max_depth=4)\n",
        "model.fit(X_train, Y_train)\n",
        "Y_pred=model.predict(X_test)\n"
      ],
      "metadata": {
        "id": "y9qFmtqAnDBd"
      },
      "execution_count": null,
      "outputs": []
    },
    {
      "cell_type": "code",
      "source": [
        "#모형평가: 결정계수 평가\n",
        "print('학습용 데이터 세트 결정계수: {:.3f}'.format(model.score(X_train, Y_train)))\n",
        "print('평가용 데이터 세트 결정계수 :{:.3f}'.format(model.score(X_test, Y_test)))\n",
        "times_random=model.score(X_test,Y_test)\n",
        "times_random_sub=abs(model.score(X_test,Y_test)-model.score(X_train,Y_train))"
      ],
      "metadata": {
        "colab": {
          "base_uri": "https://localhost:8080/"
        },
        "id": "b8ipwdR0nRyZ",
        "outputId": "b4c81640-83bb-4df8-d391-80a10c02d48a"
      },
      "execution_count": null,
      "outputs": [
        {
          "output_type": "stream",
          "name": "stdout",
          "text": [
            "학습용 데이터 세트 결정계수: 0.903\n",
            "평가용 데이터 세트 결정계수 :0.895\n"
          ]
        }
      ]
    },
    {
      "cell_type": "code",
      "source": [
        "#모형평가: rmse평가\n",
        "rmse=sqrt(mean_squared_error(Y_test, Y_pred))\n",
        "print('RMSE: {:.3f}'.format(rmse))\n",
        "times_random_rmse=rmse"
      ],
      "metadata": {
        "colab": {
          "base_uri": "https://localhost:8080/"
        },
        "id": "xIudisfJnjw5",
        "outputId": "2f90b957-fece-4d35-c8b5-7d90090b1ac3"
      },
      "execution_count": null,
      "outputs": [
        {
          "output_type": "stream",
          "name": "stdout",
          "text": [
            "RMSE: 18.218\n"
          ]
        }
      ]
    },
    {
      "cell_type": "code",
      "source": [
        "#변수 중요도 출력\n",
        "feature_name=X.columns\n",
        "feature_importances=model.feature_importances_\n",
        "sorted(zip(feature_importances, feature_name), reverse=True)"
      ],
      "metadata": {
        "colab": {
          "base_uri": "https://localhost:8080/"
        },
        "id": "jmoJ9GYD1ly1",
        "outputId": "3f0cb0c0-e260-44b8-a357-22d99d2f01be"
      },
      "execution_count": null,
      "outputs": [
        {
          "output_type": "execute_result",
          "data": {
            "text/plain": [
              "[(0.6114814185152648, 'research'),\n",
              " (0.1939292585731261, 'teaching'),\n",
              " (0.18867657296296272, 'citations'),\n",
              " (0.0023108095638712167, 'international'),\n",
              " (0.0012241553567158775, 'international_students'),\n",
              " (0.0010392744244335594, 'student_staff_ratio'),\n",
              " (0.0006742435340001643, 'year'),\n",
              " (0.0006642670696256121, 'num_students')]"
            ]
          },
          "metadata": {},
          "execution_count": 23
        }
      ]
    },
    {
      "cell_type": "code",
      "source": [
        "import matplotlib.pyplot as plt\n",
        "\n",
        "ratio = list(model.feature_importances_)\n",
        "labels = list(feature_name)\n",
        "wedgeprops={'width': 0.7, 'edgecolor': 'w', 'linewidth': 5}\n",
        "plt.pie(ratio, labels=labels, autopct='%.1f%%', startangle=260, counterclock=False, wedgeprops=wedgeprops)\n",
        "plt.show()"
      ],
      "metadata": {
        "colab": {
          "base_uri": "https://localhost:8080/",
          "height": 248
        },
        "id": "mhjeCfLvapAg",
        "outputId": "9eea85ef-1325-4b51-827c-c01d422217d7"
      },
      "execution_count": null,
      "outputs": [
        {
          "output_type": "display_data",
          "data": {
            "text/plain": [
              "<Figure size 432x288 with 1 Axes>"
            ],
            "image/png": "[encoded data removed]"
          },
          "metadata": {}
        }
      ]
    },
    {
      "cell_type": "code",
      "source": [
        "#타임스 대학순위 분석_랭킹순위예측\n",
        "#그래디언트부스팅 수치예측실습\n",
        "X=times_df[['teaching', 'international','research', 'citations','num_students',\n",
        "       'student_staff_ratio', 'international_students','year']]\n",
        "Y=times_df['world_rank']\n",
        "\n",
        "X_train, X_test, Y_train, Y_test=train_test_split(X,Y,test_size=0.3,random_state=0)"
      ],
      "metadata": {
        "id": "F4x3ZyzVhVeS"
      },
      "execution_count": null,
      "outputs": []
    },
    {
      "cell_type": "code",
      "source": [
        "#모형 학습 예측\n",
        "from sklearn.ensemble import GradientBoostingRegressor\n",
        "model=GradientBoostingRegressor(random_state=0, max_depth=2, n_estimators=100, learning_rate=0.1)\n",
        "\n",
        "model.fit(X_train, Y_train)\n",
        "Y_pred=model.predict(X_test)"
      ],
      "metadata": {
        "id": "g_cX6Wbwn-aI"
      },
      "execution_count": null,
      "outputs": []
    },
    {
      "cell_type": "code",
      "source": [
        "#모형평가: 결정계수 평가\n",
        "print('학습용 데이터 세트 결정계수: {:.3f}'.format(model.score(X_train, Y_train)))\n",
        "print('평가용 데이터 세트 결정계수 :{:.3f}'.format(model.score(X_test, Y_test)))\n",
        "times_gd=model.score(X_test,Y_test)\n",
        "times_gd_sub=abs(model.score(X_test,Y_test)-model.score(X_train,Y_train))"
      ],
      "metadata": {
        "colab": {
          "base_uri": "https://localhost:8080/"
        },
        "id": "9o7aAuT8oTsw",
        "outputId": "eda3ebf3-f53d-4c68-87fa-d6ce9eb7c478"
      },
      "execution_count": null,
      "outputs": [
        {
          "output_type": "stream",
          "name": "stdout",
          "text": [
            "학습용 데이터 세트 결정계수: 0.951\n",
            "평가용 데이터 세트 결정계수 :0.936\n"
          ]
        }
      ]
    },
    {
      "cell_type": "code",
      "source": [
        "#모형평가: rmse평가\n",
        "rmse=sqrt(mean_squared_error(Y_test, Y_pred))\n",
        "print('RMSE: {:.3f}'.format(rmse))\n",
        "times_gd_rmse=rmse"
      ],
      "metadata": {
        "colab": {
          "base_uri": "https://localhost:8080/"
        },
        "id": "x98n2C9ToZ98",
        "outputId": "3381fb30-67ed-47bb-eb2f-feb7f3e6554e"
      },
      "execution_count": null,
      "outputs": [
        {
          "output_type": "stream",
          "name": "stdout",
          "text": [
            "RMSE: 14.243\n"
          ]
        }
      ]
    },
    {
      "cell_type": "code",
      "source": [
        "#변수 중요도 출력\n",
        "feature_name=X.columns\n",
        "feature_importances=model.feature_importances_\n",
        "sorted(zip(feature_importances, feature_name), reverse=True)"
      ],
      "metadata": {
        "colab": {
          "base_uri": "https://localhost:8080/"
        },
        "id": "yT5dtOru2IQ4",
        "outputId": "a3d016a4-c49c-4425-b202-11b3e2ca0ac5"
      },
      "execution_count": null,
      "outputs": [
        {
          "output_type": "execute_result",
          "data": {
            "text/plain": [
              "[(0.4625367841105435, 'research'),\n",
              " (0.272719576472904, 'teaching'),\n",
              " (0.22707711913640147, 'citations'),\n",
              " (0.016682636198176608, 'year'),\n",
              " (0.014340326603058656, 'international'),\n",
              " (0.004142933869625591, 'international_students'),\n",
              " (0.001867032127091524, 'num_students'),\n",
              " (0.0006335914821987004, 'student_staff_ratio')]"
            ]
          },
          "metadata": {},
          "execution_count": 29
        }
      ]
    },
    {
      "cell_type": "code",
      "source": [
        "import matplotlib.pyplot as plt\n",
        "\n",
        "ratio = list(model.feature_importances_)\n",
        "labels = list(feature_name)\n",
        "wedgeprops={'width': 0.7, 'edgecolor': 'w', 'linewidth': 5}\n",
        "plt.pie(ratio, labels=labels, autopct='%.1f%%', startangle=260, counterclock=False, wedgeprops=wedgeprops)\n",
        "plt.show()"
      ],
      "metadata": {
        "colab": {
          "base_uri": "https://localhost:8080/",
          "height": 248
        },
        "id": "YuKF6uHub6C1",
        "outputId": "6c917cdb-5463-4289-8153-5c77d2761849"
      },
      "execution_count": null,
      "outputs": [
        {
          "output_type": "display_data",
          "data": {
            "text/plain": [
              "<Figure size 432x288 with 1 Axes>"
            ],
            "image/png": "[encoded data removed]"
          },
          "metadata": {}
        }
      ]
    },
    {
      "cell_type": "code",
      "source": [
        "!pip install tensorflow\n",
        "!pip install keras"
      ],
      "metadata": {
        "colab": {
          "base_uri": "https://localhost:8080/"
        },
        "id": "0zx-EsIGpWY-",
        "outputId": "de11a8ba-7f02-49bd-d8f3-f6cb50ee9bd1"
      },
      "execution_count": null,
      "outputs": [
        {
          "output_type": "stream",
          "name": "stdout",
          "text": [
            "Looking in indexes: https://pypi.org/simple, https://us-python.pkg.dev/colab-wheels/public/simple/\n",
            "Requirement already satisfied: tensorflow in /usr/local/lib/python3.7/dist-packages (2.9.2)\n",
            "Requirement already satisfied: flatbuffers<2,>=1.12 in /usr/local/lib/python3.7/dist-packages (from tensorflow) (1.12)\n",
            "Requirement already satisfied: grpcio<2.0,>=1.24.3 in /usr/local/lib/python3.7/dist-packages (from tensorflow) (1.50.0)\n",
            "Requirement already satisfied: numpy>=1.20 in /usr/local/lib/python3.7/dist-packages (from tensorflow) (1.21.6)\n",
            "Requirement already satisfied: libclang>=13.0.0 in /usr/local/lib/python3.7/dist-packages (from tensorflow) (14.0.6)\n",
            "Requirement already satisfied: astunparse>=1.6.0 in /usr/local/lib/python3.7/dist-packages (from tensorflow) (1.6.3)\n",
            "Requirement already satisfied: wrapt>=1.11.0 in /usr/local/lib/python3.7/dist-packages (from tensorflow) (1.14.1)\n",
            "Requirement already satisfied: absl-py>=1.0.0 in /usr/local/lib/python3.7/dist-packages (from tensorflow) (1.3.0)\n",
            "Requirement already satisfied: h5py>=2.9.0 in /usr/local/lib/python3.7/dist-packages (from tensorflow) (3.1.0)\n",
            "Requirement already satisfied: protobuf<3.20,>=3.9.2 in /usr/local/lib/python3.7/dist-packages (from tensorflow) (3.19.6)\n",
            "Requirement already satisfied: gast<=0.4.0,>=0.2.1 in /usr/local/lib/python3.7/dist-packages (from tensorflow) (0.4.0)\n",
            "Requirement already satisfied: keras<2.10.0,>=2.9.0rc0 in /usr/local/lib/python3.7/dist-packages (from tensorflow) (2.9.0)\n",
            "Requirement already satisfied: setuptools in /usr/local/lib/python3.7/dist-packages (from tensorflow) (57.4.0)\n",
            "Requirement already satisfied: packaging in /usr/local/lib/python3.7/dist-packages (from tensorflow) (21.3)\n",
            "Requirement already satisfied: google-pasta>=0.1.1 in /usr/local/lib/python3.7/dist-packages (from tensorflow) (0.2.0)\n",
            "Requirement already satisfied: termcolor>=1.1.0 in /usr/local/lib/python3.7/dist-packages (from tensorflow) (2.1.0)\n",
            "Requirement already satisfied: opt-einsum>=2.3.2 in /usr/local/lib/python3.7/dist-packages (from tensorflow) (3.3.0)\n",
            "Requirement already satisfied: typing-extensions>=3.6.6 in /usr/local/lib/python3.7/dist-packages (from tensorflow) (4.1.1)\n",
            "Requirement already satisfied: tensorflow-io-gcs-filesystem>=0.23.1 in /usr/local/lib/python3.7/dist-packages (from tensorflow) (0.27.0)\n",
            "Requirement already satisfied: tensorboard<2.10,>=2.9 in /usr/local/lib/python3.7/dist-packages (from tensorflow) (2.9.1)\n",
            "Requirement already satisfied: keras-preprocessing>=1.1.1 in /usr/local/lib/python3.7/dist-packages (from tensorflow) (1.1.2)\n",
            "Requirement already satisfied: six>=1.12.0 in /usr/local/lib/python3.7/dist-packages (from tensorflow) (1.15.0)\n",
            "Requirement already satisfied: tensorflow-estimator<2.10.0,>=2.9.0rc0 in /usr/local/lib/python3.7/dist-packages (from tensorflow) (2.9.0)\n",
            "Requirement already satisfied: wheel<1.0,>=0.23.0 in /usr/local/lib/python3.7/dist-packages (from astunparse>=1.6.0->tensorflow) (0.38.4)\n",
            "Requirement already satisfied: cached-property in /usr/local/lib/python3.7/dist-packages (from h5py>=2.9.0->tensorflow) (1.5.2)\n",
            "Requirement already satisfied: google-auth-oauthlib<0.5,>=0.4.1 in /usr/local/lib/python3.7/dist-packages (from tensorboard<2.10,>=2.9->tensorflow) (0.4.6)\n",
            "Requirement already satisfied: tensorboard-data-server<0.7.0,>=0.6.0 in /usr/local/lib/python3.7/dist-packages (from tensorboard<2.10,>=2.9->tensorflow) (0.6.1)\n",
            "Requirement already satisfied: tensorboard-plugin-wit>=1.6.0 in /usr/local/lib/python3.7/dist-packages (from tensorboard<2.10,>=2.9->tensorflow) (1.8.1)\n",
            "Requirement already satisfied: markdown>=2.6.8 in /usr/local/lib/python3.7/dist-packages (from tensorboard<2.10,>=2.9->tensorflow) (3.4.1)\n",
            "Requirement already satisfied: google-auth<3,>=1.6.3 in /usr/local/lib/python3.7/dist-packages (from tensorboard<2.10,>=2.9->tensorflow) (2.14.1)\n",
            "Requirement already satisfied: werkzeug>=1.0.1 in /usr/local/lib/python3.7/dist-packages (from tensorboard<2.10,>=2.9->tensorflow) (1.0.1)\n",
            "Requirement already satisfied: requests<3,>=2.21.0 in /usr/local/lib/python3.7/dist-packages (from tensorboard<2.10,>=2.9->tensorflow) (2.23.0)\n",
            "Requirement already satisfied: rsa<5,>=3.1.4 in /usr/local/lib/python3.7/dist-packages (from google-auth<3,>=1.6.3->tensorboard<2.10,>=2.9->tensorflow) (4.9)\n",
            "Requirement already satisfied: cachetools<6.0,>=2.0.0 in /usr/local/lib/python3.7/dist-packages (from google-auth<3,>=1.6.3->tensorboard<2.10,>=2.9->tensorflow) (5.2.0)\n",
            "Requirement already satisfied: pyasn1-modules>=0.2.1 in /usr/local/lib/python3.7/dist-packages (from google-auth<3,>=1.6.3->tensorboard<2.10,>=2.9->tensorflow) (0.2.8)\n",
            "Requirement already satisfied: requests-oauthlib>=0.7.0 in /usr/local/lib/python3.7/dist-packages (from google-auth-oauthlib<0.5,>=0.4.1->tensorboard<2.10,>=2.9->tensorflow) (1.3.1)\n",
            "Requirement already satisfied: importlib-metadata>=4.4 in /usr/local/lib/python3.7/dist-packages (from markdown>=2.6.8->tensorboard<2.10,>=2.9->tensorflow) (4.13.0)\n",
            "Requirement already satisfied: zipp>=0.5 in /usr/local/lib/python3.7/dist-packages (from importlib-metadata>=4.4->markdown>=2.6.8->tensorboard<2.10,>=2.9->tensorflow) (3.10.0)\n",
            "Requirement already satisfied: pyasn1<0.5.0,>=0.4.6 in /usr/local/lib/python3.7/dist-packages (from pyasn1-modules>=0.2.1->google-auth<3,>=1.6.3->tensorboard<2.10,>=2.9->tensorflow) (0.4.8)\n",
            "Requirement already satisfied: chardet<4,>=3.0.2 in /usr/local/lib/python3.7/dist-packages (from requests<3,>=2.21.0->tensorboard<2.10,>=2.9->tensorflow) (3.0.4)\n",
            "Requirement already satisfied: certifi>=2017.4.17 in /usr/local/lib/python3.7/dist-packages (from requests<3,>=2.21.0->tensorboard<2.10,>=2.9->tensorflow) (2022.9.24)\n",
            "Requirement already satisfied: idna<3,>=2.5 in /usr/local/lib/python3.7/dist-packages (from requests<3,>=2.21.0->tensorboard<2.10,>=2.9->tensorflow) (2.10)\n",
            "Requirement already satisfied: urllib3!=1.25.0,!=1.25.1,<1.26,>=1.21.1 in /usr/local/lib/python3.7/dist-packages (from requests<3,>=2.21.0->tensorboard<2.10,>=2.9->tensorflow) (1.24.3)\n",
            "Requirement already satisfied: oauthlib>=3.0.0 in /usr/local/lib/python3.7/dist-packages (from requests-oauthlib>=0.7.0->google-auth-oauthlib<0.5,>=0.4.1->tensorboard<2.10,>=2.9->tensorflow) (3.2.2)\n",
            "Requirement already satisfied: pyparsing!=3.0.5,>=2.0.2 in /usr/local/lib/python3.7/dist-packages (from packaging->tensorflow) (3.0.9)\n",
            "Looking in indexes: https://pypi.org/simple, https://us-python.pkg.dev/colab-wheels/public/simple/\n",
            "Requirement already satisfied: keras in /usr/local/lib/python3.7/dist-packages (2.9.0)\n"
          ]
        }
      ]
    },
    {
      "cell_type": "code",
      "source": [
        "#타임스 대학순위 분석_랭킹순위예측\n",
        "#딥러닝_dnn(심층신경망) 수치예측실습\n",
        "import numpy as np\n",
        "X=times_df[['teaching', 'international','research', 'citations','num_students',\n",
        "       'student_staff_ratio', 'international_students','year']]\n",
        "\n",
        "#X=X.astype('float32')\n",
        "#Y=np.log1p(times_df['world_rank'])\n",
        "Y=times_df['world_rank']\n",
        "\n",
        "X_train, X_test, Y_train, Y_test=train_test_split(X,Y,test_size=0.3,random_state=0)\n",
        "\n",
        "#표준화\n",
        "\n",
        "scaler=StandardScaler().fit(X_train)\n",
        "X_test=scaler.transform(X_test)\n",
        "X_train=scaler.transform(X_train)\n",
        "X_test\n"
      ],
      "metadata": {
        "id": "aqCvajYnhbT4",
        "colab": {
          "base_uri": "https://localhost:8080/"
        },
        "outputId": "da7b2901-7088-4d88-f5eb-1cc76c5a1e89"
      },
      "execution_count": null,
      "outputs": [
        {
          "output_type": "execute_result",
          "data": {
            "text/plain": [
              "array([[ 0.46098484,  0.10285861, -0.54056655, ...,  0.83865382,\n",
              "        -0.30947763, -0.85060481],\n",
              "       [-0.21279978, -0.91079739, -0.9556026 , ..., -1.03401733,\n",
              "        -0.30947763,  1.44511356],\n",
              "       [ 1.74730092,  1.66941789,  2.00152928, ..., -0.20171904,\n",
              "         1.60222587,  0.87118396],\n",
              "       ...,\n",
              "       [-0.51906551, -0.58827048,  0.03010803, ...,  1.87902668,\n",
              "        -1.07415903, -0.85060481],\n",
              "       [-0.39655922, -1.64800176, -0.38492803, ...,  1.35884025,\n",
              "        -1.07415903, -1.42453441],\n",
              "       [ 0.95101001, -1.18724903,  0.44514408, ..., -0.61786819,\n",
              "        -1.07415903,  0.29725437]])"
            ]
          },
          "metadata": {},
          "execution_count": 32
        }
      ]
    },
    {
      "cell_type": "code",
      "source": [
        "#필요한 모듈 불러오기\n",
        "import numpy as np\n",
        "import tensorflow as tf\n",
        "import keras\n",
        "from keras.models import Sequential\n",
        "from keras.layers import Dense, Activation\n",
        "from keras.metrics import Accuracy\n",
        "\n",
        "np.random.seed(0)\n",
        "tf.random.set_seed(0)\n",
        "\n",
        "model=keras.models.Sequential()\n",
        "model.add(keras.layers.Dense(64, input_dim=8, activation='relu'))\n",
        "model.add(keras.layers.Dense(64, activation='relu'))\n",
        "model.add(keras.layers.Dense(32, activation='relu'))\n",
        "model.add(keras.layers.Dense(32, activation='relu'))\n",
        "model.add(keras.layers.Dense(16, activation='relu'))\n",
        "model.add(keras.layers.Dense(8, activation='relu'))\n",
        "model.add(keras.layers.Dense(8, activation='relu'))\n",
        "model.add(keras.layers.Dense(1))\n",
        "\n",
        "model.compile(loss=\"mse\",optimizer='adam')\n",
        "\n",
        "#모형 학습 및 예측\n",
        "history=model.fit(X_train, Y_train, epochs=20, batch_size=64, verbose=0)\n",
        "Y_pred=np.round(model.predict(X_test, verbose=0),3)\n",
        "print('평가용 데이터 세트에 대한 예측값\\n', Y_pred)"
      ],
      "metadata": {
        "colab": {
          "base_uri": "https://localhost:8080/"
        },
        "id": "LrmbHrPCps_t",
        "outputId": "b075f761-0317-481c-9105-a42a87ed87a5"
      },
      "execution_count": null,
      "outputs": [
        {
          "output_type": "stream",
          "name": "stdout",
          "text": [
            "평가용 데이터 세트에 대한 예측값\n",
            " [[ 53.515]\n",
            " [123.658]\n",
            " [ 13.811]\n",
            " [137.673]\n",
            " [ 34.151]\n",
            " [ 16.762]\n",
            " [ 98.718]\n",
            " [ 23.224]\n",
            " [141.843]\n",
            " [190.376]\n",
            " [ 12.368]\n",
            " [ 46.167]\n",
            " [103.182]\n",
            " [ 33.935]\n",
            " [ 37.479]\n",
            " [132.787]\n",
            " [122.02 ]\n",
            " [121.878]\n",
            " [ 48.091]\n",
            " [ 78.991]\n",
            " [133.445]\n",
            " [174.479]\n",
            " [110.932]\n",
            " [145.54 ]\n",
            " [181.26 ]\n",
            " [132.739]\n",
            " [142.257]\n",
            " [109.032]\n",
            " [ 15.063]\n",
            " [ 31.313]\n",
            " [178.782]\n",
            " [ 23.337]\n",
            " [116.812]\n",
            " [127.716]\n",
            " [ 17.476]\n",
            " [ 82.628]\n",
            " [145.57 ]\n",
            " [137.884]\n",
            " [100.8  ]\n",
            " [201.241]\n",
            " [103.337]\n",
            " [107.305]\n",
            " [145.861]\n",
            " [ 97.126]\n",
            " [133.614]\n",
            " [ 64.891]\n",
            " [ 45.412]\n",
            " [155.634]\n",
            " [158.173]\n",
            " [101.109]\n",
            " [ 68.452]\n",
            " [104.393]\n",
            " [ 74.603]\n",
            " [169.003]\n",
            " [ 36.839]\n",
            " [ 11.91 ]\n",
            " [ 17.816]\n",
            " [ 97.057]\n",
            " [171.033]\n",
            " [ 90.055]\n",
            " [148.173]\n",
            " [ 19.231]\n",
            " [170.671]\n",
            " [ 98.488]\n",
            " [ 29.911]\n",
            " [ 37.416]\n",
            " [162.303]\n",
            " [ 50.051]\n",
            " [  7.375]\n",
            " [166.289]\n",
            " [143.607]\n",
            " [  5.443]\n",
            " [128.052]\n",
            " [ 45.985]\n",
            " [ 82.303]\n",
            " [ 75.793]\n",
            " [110.138]\n",
            " [ 41.567]\n",
            " [111.504]\n",
            " [156.681]\n",
            " [ 24.366]\n",
            " [ 64.386]\n",
            " [163.13 ]\n",
            " [ 63.169]\n",
            " [183.257]\n",
            " [162.605]\n",
            " [ 90.067]\n",
            " [170.85 ]\n",
            " [156.213]\n",
            " [ 12.207]\n",
            " [125.72 ]\n",
            " [ 80.925]\n",
            " [111.032]\n",
            " [192.559]\n",
            " [ 77.265]\n",
            " [115.142]\n",
            " [165.162]\n",
            " [  7.387]\n",
            " [180.392]\n",
            " [ 21.38 ]\n",
            " [112.313]\n",
            " [109.699]\n",
            " [137.74 ]\n",
            " [114.189]\n",
            " [ 71.968]\n",
            " [142.588]\n",
            " [ 69.962]\n",
            " [ 95.972]\n",
            " [155.349]\n",
            " [158.142]\n",
            " [ 84.728]\n",
            " [124.279]\n",
            " [ 20.237]\n",
            " [124.793]\n",
            " [136.659]\n",
            " [106.819]\n",
            " [103.831]\n",
            " [122.208]\n",
            " [ 14.99 ]\n",
            " [  6.85 ]\n",
            " [146.475]\n",
            " [182.056]\n",
            " [107.239]\n",
            " [110.589]\n",
            " [119.354]\n",
            " [121.986]\n",
            " [ 44.4  ]\n",
            " [ 21.018]\n",
            " [105.05 ]\n",
            " [ 79.809]\n",
            " [  9.59 ]\n",
            " [171.636]\n",
            " [101.672]\n",
            " [114.762]\n",
            " [ 40.076]\n",
            " [ 26.709]\n",
            " [146.974]\n",
            " [ 85.991]\n",
            " [187.294]\n",
            " [164.563]\n",
            " [ 10.427]\n",
            " [165.478]\n",
            " [ 25.22 ]\n",
            " [ 17.166]\n",
            " [113.926]\n",
            " [129.664]\n",
            " [ 22.963]\n",
            " [121.527]\n",
            " [ 83.533]\n",
            " [ 94.49 ]\n",
            " [102.343]\n",
            " [101.212]\n",
            " [ 59.001]\n",
            " [201.266]\n",
            " [ 34.982]\n",
            " [ 57.779]\n",
            " [ 16.264]\n",
            " [178.177]\n",
            " [108.333]\n",
            " [ 28.928]\n",
            " [162.258]\n",
            " [129.786]\n",
            " [169.195]\n",
            " [170.547]\n",
            " [ 86.082]\n",
            " [ 32.668]\n",
            " [127.281]\n",
            " [157.111]\n",
            " [ 96.732]\n",
            " [175.8  ]\n",
            " [183.508]\n",
            " [162.827]\n",
            " [ 80.22 ]\n",
            " [101.455]\n",
            " [  8.008]\n",
            " [140.084]\n",
            " [ 35.971]\n",
            " [172.612]\n",
            " [183.176]\n",
            " [168.271]\n",
            " [157.342]\n",
            " [124.186]\n",
            " [ 18.684]\n",
            " [125.899]\n",
            " [ 12.597]\n",
            " [ 14.819]\n",
            " [ 29.898]\n",
            " [ 69.663]\n",
            " [ 93.907]\n",
            " [ 16.857]\n",
            " [ 20.997]\n",
            " [173.94 ]\n",
            " [ 51.691]\n",
            " [178.704]\n",
            " [179.402]\n",
            " [137.772]\n",
            " [101.215]\n",
            " [167.513]\n",
            " [165.366]\n",
            " [ 98.154]\n",
            " [ 26.437]\n",
            " [ 87.181]\n",
            " [ 77.899]\n",
            " [ 68.229]\n",
            " [ 16.372]\n",
            " [ 55.538]\n",
            " [103.699]\n",
            " [105.158]\n",
            " [169.252]\n",
            " [ 27.78 ]\n",
            " [ 14.222]\n",
            " [124.121]\n",
            " [121.798]\n",
            " [141.723]\n",
            " [173.653]\n",
            " [107.109]\n",
            " [112.369]\n",
            " [121.603]\n",
            " [ 80.879]\n",
            " [ 48.714]\n",
            " [ 11.885]\n",
            " [ 39.317]\n",
            " [198.02 ]\n",
            " [120.688]\n",
            " [ 20.348]\n",
            " [172.573]\n",
            " [137.713]\n",
            " [184.873]\n",
            " [ 12.563]\n",
            " [159.36 ]\n",
            " [ 92.386]\n",
            " [ 10.572]\n",
            " [143.955]\n",
            " [148.004]\n",
            " [ 49.284]\n",
            " [ 71.989]\n",
            " [ 86.274]\n",
            " [143.732]\n",
            " [169.525]\n",
            " [146.482]\n",
            " [ 35.838]\n",
            " [ 29.871]\n",
            " [144.946]\n",
            " [ 73.536]\n",
            " [150.448]\n",
            " [ 15.507]\n",
            " [ 36.683]\n",
            " [ 54.364]\n",
            " [101.358]\n",
            " [171.388]\n",
            " [139.192]\n",
            " [ 15.02 ]\n",
            " [ 37.273]\n",
            " [206.401]\n",
            " [154.272]\n",
            " [ 49.426]\n",
            " [138.864]\n",
            " [164.794]\n",
            " [142.424]\n",
            " [117.598]\n",
            " [ 25.614]\n",
            " [100.423]\n",
            " [166.391]\n",
            " [ 31.674]\n",
            " [158.838]\n",
            " [ 88.979]\n",
            " [110.906]\n",
            " [ 45.737]\n",
            " [138.549]\n",
            " [159.571]\n",
            " [142.512]\n",
            " [ 87.988]\n",
            " [ 34.228]\n",
            " [ 33.773]\n",
            " [146.352]\n",
            " [119.711]\n",
            " [170.164]\n",
            " [125.014]\n",
            " [111.331]\n",
            " [150.276]\n",
            " [165.859]\n",
            " [ 33.238]\n",
            " [109.611]\n",
            " [182.104]\n",
            " [ 41.563]\n",
            " [ 60.13 ]\n",
            " [ 10.443]\n",
            " [114.136]\n",
            " [207.021]\n",
            " [ 79.01 ]\n",
            " [ 80.709]\n",
            " [178.115]\n",
            " [192.769]\n",
            " [140.312]\n",
            " [173.041]\n",
            " [ 55.213]\n",
            " [ 46.607]\n",
            " [ 28.744]\n",
            " [173.309]\n",
            " [ 68.987]\n",
            " [ 84.477]\n",
            " [148.297]\n",
            " [ 11.172]\n",
            " [ 71.825]\n",
            " [  8.774]\n",
            " [142.633]\n",
            " [ 63.556]\n",
            " [ 14.082]\n",
            " [ 10.971]\n",
            " [150.256]\n",
            " [ 18.054]\n",
            " [169.603]\n",
            " [102.08 ]\n",
            " [108.219]\n",
            " [ 13.289]\n",
            " [ 98.186]\n",
            " [133.268]\n",
            " [ 45.274]\n",
            " [156.186]\n",
            " [101.356]\n",
            " [120.909]\n",
            " [119.011]\n",
            " [161.912]\n",
            " [ 63.319]]\n"
          ]
        }
      ]
    },
    {
      "cell_type": "code",
      "source": [
        "#모형평가\n",
        "train_score=model.evaluate(X_train, Y_train, verbose=0)\n",
        "test_score=model.evaluate(X_test, Y_test, verbose=0)\n",
        "\n",
        "print('학습용 데이터 세트 RMSE {:.3f}'.format(sqrt(train_score)))\n",
        "print('평가용 데이터 세트 RMSE {:.3f}'.format(sqrt(test_score)))\n",
        "\n",
        "times_dnn_rmse=sqrt(test_score)"
      ],
      "metadata": {
        "colab": {
          "base_uri": "https://localhost:8080/"
        },
        "id": "fvX4DydvpQVy",
        "outputId": "07366d38-b2fd-4c18-feb4-676bb3672b5e"
      },
      "execution_count": null,
      "outputs": [
        {
          "output_type": "stream",
          "name": "stdout",
          "text": [
            "학습용 데이터 세트 RMSE 16.303\n",
            "평가용 데이터 세트 RMSE 15.449\n"
          ]
        }
      ]
    },
    {
      "cell_type": "code",
      "source": [
        "import matplotlib.pyplot as plt\n",
        "plt.plot(history.history['loss'])\n",
        "plt.xlabel('epoch')\n",
        "plt.ylabel('loss')\n",
        "plt.legend(['train'])\n",
        "plt.savefig('7_3-07', dpi=300)\n",
        "plt.show()"
      ],
      "metadata": {
        "colab": {
          "base_uri": "https://localhost:8080/",
          "height": 279
        },
        "id": "Be4KvJbz1LxE",
        "outputId": "092050a5-2c0b-4f4c-f7e5-8d37b2510690"
      },
      "execution_count": null,
      "outputs": [
        {
          "output_type": "display_data",
          "data": {
            "text/plain": [
              "<Figure size 432x288 with 1 Axes>"
            ],
            "image/png": "[encoded data removed]"
          },
          "metadata": {
            "needs_background": "light"
          }
        }
      ]
    },
    {
      "cell_type": "code",
      "source": [
        "#모형 재학습 및 예측\n",
        "history=model.fit(X_train, Y_train, epochs=10, batch_size=64, verbose=0)\n",
        "Y_pred=np.round(model.predict(X_test, verbose=0),3)\n",
        "print('평가용 데이터 세트에 대한 예측값\\n', Y_pred)"
      ],
      "metadata": {
        "colab": {
          "base_uri": "https://localhost:8080/"
        },
        "id": "6cHL-NrW23jv",
        "outputId": "04c03854-54a4-4dbc-d50b-436f1cf1be87"
      },
      "execution_count": null,
      "outputs": [
        {
          "output_type": "stream",
          "name": "stdout",
          "text": [
            "평가용 데이터 세트에 대한 예측값\n",
            " [[ 60.57 ]\n",
            " [126.186]\n",
            " [ 13.283]\n",
            " [136.242]\n",
            " [ 33.622]\n",
            " [ 19.811]\n",
            " [102.863]\n",
            " [ 27.752]\n",
            " [140.652]\n",
            " [191.16 ]\n",
            " [ 14.816]\n",
            " [ 45.898]\n",
            " [106.58 ]\n",
            " [ 35.397]\n",
            " [ 34.526]\n",
            " [143.946]\n",
            " [129.72 ]\n",
            " [125.124]\n",
            " [ 43.517]\n",
            " [ 77.903]\n",
            " [136.694]\n",
            " [183.881]\n",
            " [116.121]\n",
            " [151.346]\n",
            " [184.872]\n",
            " [132.108]\n",
            " [147.494]\n",
            " [109.933]\n",
            " [ 16.04 ]\n",
            " [ 30.69 ]\n",
            " [181.636]\n",
            " [ 21.926]\n",
            " [114.953]\n",
            " [125.241]\n",
            " [ 14.753]\n",
            " [ 76.936]\n",
            " [146.138]\n",
            " [136.002]\n",
            " [106.026]\n",
            " [202.987]\n",
            " [101.585]\n",
            " [109.952]\n",
            " [149.943]\n",
            " [ 99.362]\n",
            " [137.366]\n",
            " [ 64.965]\n",
            " [ 47.133]\n",
            " [156.782]\n",
            " [164.544]\n",
            " [ 99.409]\n",
            " [ 74.455]\n",
            " [106.174]\n",
            " [ 77.196]\n",
            " [170.686]\n",
            " [ 36.093]\n",
            " [ 11.432]\n",
            " [ 19.613]\n",
            " [ 96.672]\n",
            " [172.504]\n",
            " [ 95.002]\n",
            " [154.256]\n",
            " [ 22.987]\n",
            " [173.341]\n",
            " [101.502]\n",
            " [ 29.579]\n",
            " [ 41.998]\n",
            " [165.496]\n",
            " [ 44.642]\n",
            " [  6.651]\n",
            " [164.375]\n",
            " [147.779]\n",
            " [  3.918]\n",
            " [128.09 ]\n",
            " [ 44.927]\n",
            " [ 89.436]\n",
            " [ 81.094]\n",
            " [112.077]\n",
            " [ 42.109]\n",
            " [114.667]\n",
            " [155.047]\n",
            " [ 25.479]\n",
            " [ 63.814]\n",
            " [169.274]\n",
            " [ 65.422]\n",
            " [180.702]\n",
            " [167.309]\n",
            " [ 92.478]\n",
            " [168.749]\n",
            " [158.82 ]\n",
            " [ 14.853]\n",
            " [129.944]\n",
            " [ 80.55 ]\n",
            " [114.122]\n",
            " [190.39 ]\n",
            " [ 76.272]\n",
            " [122.196]\n",
            " [171.896]\n",
            " [  6.789]\n",
            " [179.722]\n",
            " [ 23.03 ]\n",
            " [111.953]\n",
            " [113.775]\n",
            " [141.909]\n",
            " [119.229]\n",
            " [ 72.855]\n",
            " [143.995]\n",
            " [ 72.521]\n",
            " [ 98.331]\n",
            " [161.192]\n",
            " [160.378]\n",
            " [ 85.171]\n",
            " [129.33 ]\n",
            " [ 21.12 ]\n",
            " [126.771]\n",
            " [133.056]\n",
            " [109.786]\n",
            " [103.419]\n",
            " [131.559]\n",
            " [ 18.598]\n",
            " [  5.587]\n",
            " [147.138]\n",
            " [183.338]\n",
            " [110.731]\n",
            " [109.57 ]\n",
            " [121.403]\n",
            " [122.001]\n",
            " [ 48.352]\n",
            " [ 18.131]\n",
            " [105.966]\n",
            " [ 83.535]\n",
            " [  8.142]\n",
            " [173.565]\n",
            " [103.948]\n",
            " [112.711]\n",
            " [ 43.747]\n",
            " [ 27.964]\n",
            " [150.68 ]\n",
            " [ 91.345]\n",
            " [193.165]\n",
            " [169.405]\n",
            " [ 10.625]\n",
            " [165.962]\n",
            " [ 25.311]\n",
            " [ 17.662]\n",
            " [115.865]\n",
            " [135.585]\n",
            " [ 24.756]\n",
            " [122.053]\n",
            " [ 88.756]\n",
            " [ 97.136]\n",
            " [104.905]\n",
            " [107.724]\n",
            " [ 59.979]\n",
            " [197.355]\n",
            " [ 37.14 ]\n",
            " [ 59.987]\n",
            " [ 19.149]\n",
            " [176.633]\n",
            " [110.119]\n",
            " [ 29.988]\n",
            " [162.167]\n",
            " [129.874]\n",
            " [172.25 ]\n",
            " [173.349]\n",
            " [ 92.884]\n",
            " [ 35.48 ]\n",
            " [130.246]\n",
            " [163.073]\n",
            " [102.119]\n",
            " [182.058]\n",
            " [185.523]\n",
            " [162.414]\n",
            " [ 81.512]\n",
            " [104.239]\n",
            " [  6.368]\n",
            " [136.983]\n",
            " [ 37.592]\n",
            " [171.77 ]\n",
            " [187.526]\n",
            " [172.285]\n",
            " [156.139]\n",
            " [127.099]\n",
            " [ 21.18 ]\n",
            " [133.886]\n",
            " [ 11.477]\n",
            " [ 15.127]\n",
            " [ 35.239]\n",
            " [ 73.087]\n",
            " [ 94.958]\n",
            " [ 17.945]\n",
            " [ 24.268]\n",
            " [180.717]\n",
            " [ 53.832]\n",
            " [185.267]\n",
            " [178.069]\n",
            " [141.855]\n",
            " [ 98.311]\n",
            " [167.495]\n",
            " [170.378]\n",
            " [102.063]\n",
            " [ 32.35 ]\n",
            " [ 90.186]\n",
            " [ 78.32 ]\n",
            " [ 67.503]\n",
            " [ 17.486]\n",
            " [ 56.078]\n",
            " [106.075]\n",
            " [109.312]\n",
            " [178.037]\n",
            " [ 31.332]\n",
            " [ 15.781]\n",
            " [120.249]\n",
            " [123.411]\n",
            " [145.912]\n",
            " [177.744]\n",
            " [114.729]\n",
            " [114.91 ]\n",
            " [121.271]\n",
            " [ 81.011]\n",
            " [ 50.14 ]\n",
            " [ 10.678]\n",
            " [ 41.722]\n",
            " [200.884]\n",
            " [122.657]\n",
            " [ 22.705]\n",
            " [171.194]\n",
            " [141.664]\n",
            " [188.048]\n",
            " [ 13.204]\n",
            " [155.646]\n",
            " [ 91.709]\n",
            " [ 12.403]\n",
            " [144.296]\n",
            " [139.889]\n",
            " [ 53.966]\n",
            " [ 73.497]\n",
            " [ 91.728]\n",
            " [147.766]\n",
            " [176.255]\n",
            " [150.502]\n",
            " [ 33.499]\n",
            " [ 30.978]\n",
            " [149.771]\n",
            " [ 72.367]\n",
            " [154.389]\n",
            " [ 16.308]\n",
            " [ 36.396]\n",
            " [ 55.946]\n",
            " [102.014]\n",
            " [179.029]\n",
            " [146.636]\n",
            " [ 14.856]\n",
            " [ 40.145]\n",
            " [213.488]\n",
            " [156.237]\n",
            " [ 55.361]\n",
            " [140.645]\n",
            " [172.544]\n",
            " [145.219]\n",
            " [117.886]\n",
            " [ 26.552]\n",
            " [ 99.33 ]\n",
            " [177.895]\n",
            " [ 35.224]\n",
            " [166.796]\n",
            " [ 93.299]\n",
            " [112.352]\n",
            " [ 49.853]\n",
            " [140.315]\n",
            " [161.357]\n",
            " [150.212]\n",
            " [ 91.294]\n",
            " [ 37.968]\n",
            " [ 34.071]\n",
            " [150.609]\n",
            " [121.128]\n",
            " [170.038]\n",
            " [126.714]\n",
            " [112.282]\n",
            " [146.218]\n",
            " [168.996]\n",
            " [ 38.242]\n",
            " [113.87 ]\n",
            " [181.611]\n",
            " [ 46.271]\n",
            " [ 53.061]\n",
            " [ 11.997]\n",
            " [110.544]\n",
            " [210.111]\n",
            " [ 76.651]\n",
            " [ 79.445]\n",
            " [182.076]\n",
            " [201.474]\n",
            " [143.224]\n",
            " [180.805]\n",
            " [ 56.942]\n",
            " [ 48.545]\n",
            " [ 30.225]\n",
            " [170.072]\n",
            " [ 76.489]\n",
            " [ 92.296]\n",
            " [153.05 ]\n",
            " [ 12.286]\n",
            " [ 73.356]\n",
            " [  8.02 ]\n",
            " [141.031]\n",
            " [ 59.695]\n",
            " [ 17.444]\n",
            " [ 11.219]\n",
            " [154.194]\n",
            " [ 19.75 ]\n",
            " [171.248]\n",
            " [101.501]\n",
            " [111.524]\n",
            " [ 15.266]\n",
            " [104.637]\n",
            " [137.835]\n",
            " [ 47.91 ]\n",
            " [158.242]\n",
            " [107.468]\n",
            " [125.184]\n",
            " [119.364]\n",
            " [155.698]\n",
            " [ 60.488]]\n"
          ]
        }
      ]
    },
    {
      "cell_type": "code",
      "source": [
        "#모형평가\n",
        "train_score=model.evaluate(X_train, Y_train, verbose=0)\n",
        "test_score=model.evaluate(X_test, Y_test, verbose=0)\n",
        "\n",
        "print('학습용 데이터 세트 RMSE {:.3f}'.format(sqrt(train_score)))\n",
        "print('평가용 데이터 세트 RMSE {:.3f}'.format(sqrt(test_score)))\n",
        "\n",
        "times_dnn_rmse=sqrt(test_score)"
      ],
      "metadata": {
        "id": "DdCJ1WSE26gM",
        "outputId": "eda430cf-112c-4261-f8dc-e80d6a53bd1d",
        "colab": {
          "base_uri": "https://localhost:8080/"
        }
      },
      "execution_count": null,
      "outputs": [
        {
          "output_type": "stream",
          "name": "stdout",
          "text": [
            "학습용 데이터 세트 RMSE 14.838\n",
            "평가용 데이터 세트 RMSE 14.349\n"
          ]
        }
      ]
    },
    {
      "cell_type": "code",
      "source": [
        "#상하이 대학순위 분석_랭킹순위예측\n",
        "#보팅앙상블 분류예측실습\n",
        "sanghai_df=pd.read_csv('/content/drive/MyDrive/문화데이터와머신러닝/기말과제/shanghaiData.csv',encoding='UTF-8')\n",
        "sanghai_df"
      ],
      "metadata": {
        "id": "UZeicZaEhOo_",
        "colab": {
          "base_uri": "https://localhost:8080/",
          "height": 424
        },
        "outputId": "1780846e-2036-46a9-eab2-cf9535f0a71b"
      },
      "execution_count": null,
      "outputs": [
        {
          "output_type": "execute_result",
          "data": {
            "text/plain": [
              "     world_rank                              university_name national_rank  \\\n",
              "0             1                           Harvard University             1   \n",
              "1             2                      University of Cambridge             1   \n",
              "2             3                          Stanford University             2   \n",
              "3             4           University of California, Berkeley             3   \n",
              "4             5  Massachusetts Institute of Technology (MIT)             4   \n",
              "...         ...                                          ...           ...   \n",
              "4892    401-500                        University of Trieste         11-20   \n",
              "4893    401-500                       University of Zaragoza          9-13   \n",
              "4894    401-500                        Utah State University       126-146   \n",
              "4895    401-500              Vienna University of Technology           4-6   \n",
              "4896    401-500                       Wake Forest University       126-146   \n",
              "\n",
              "      total_score  alumni  award   hici     ns    pub   pcp  year  \n",
              "0           100.0   100.0  100.0  100.0  100.0  100.0  72.4  2005  \n",
              "1            73.6    99.8   93.4   53.3   56.6   70.9  66.9  2005  \n",
              "2            73.4    41.1   72.2   88.5   70.9   72.3  65.0  2005  \n",
              "3            72.8    71.8   76.0   69.4   73.9   72.2  52.7  2005  \n",
              "4            70.1    74.0   80.6   66.7   65.8   64.3  53.0  2005  \n",
              "...           ...     ...    ...    ...    ...    ...   ...   ...  \n",
              "4892          NaN     0.0    0.0    5.0   10.9   25.1  20.1  2015  \n",
              "4893          NaN     0.0    0.0    7.6    5.1   33.3  13.1  2015  \n",
              "4894          NaN    13.6    0.0    3.6   10.8   25.1  15.5  2015  \n",
              "4895          NaN     0.0    0.0    0.0   12.2   28.8  22.9  2015  \n",
              "4896          NaN     0.0    0.0   14.9    7.5   25.0  11.9  2015  \n",
              "\n",
              "[4897 rows x 11 columns]"
            ],
            "text/html": [
              "\n",
              "  <div id=\"df-53611799-2171-44b7-b688-40827c8b08ce\">\n",
              "    <div class=\"colab-df-container\">\n",
              "      <div>\n",
              "<style scoped>\n",
              "    .dataframe tbody tr th:only-of-type {\n",
              "        vertical-align: middle;\n",
              "    }\n",
              "\n",
              "    .dataframe tbody tr th {\n",
              "        vertical-align: top;\n",
              "    }\n",
              "\n",
              "    .dataframe thead th {\n",
              "        text-align: right;\n",
              "    }\n",
              "</style>\n",
              "<table border=\"1\" class=\"dataframe\">\n",
              "  <thead>\n",
              "    <tr style=\"text-align: right;\">\n",
              "      <th></th>\n",
              "      <th>world_rank</th>\n",
              "      <th>university_name</th>\n",
              "      <th>national_rank</th>\n",
              "      <th>total_score</th>\n",
              "      <th>alumni</th>\n",
              "      <th>award</th>\n",
              "      <th>hici</th>\n",
              "      <th>ns</th>\n",
              "      <th>pub</th>\n",
              "      <th>pcp</th>\n",
              "      <th>year</th>\n",
              "    </tr>\n",
              "  </thead>\n",
              "  <tbody>\n",
              "    <tr>\n",
              "      <th>0</th>\n",
              "      <td>1</td>\n",
              "      <td>Harvard University</td>\n",
              "      <td>1</td>\n",
              "      <td>100.0</td>\n",
              "      <td>100.0</td>\n",
              "      <td>100.0</td>\n",
              "      <td>100.0</td>\n",
              "      <td>100.0</td>\n",
              "      <td>100.0</td>\n",
              "      <td>72.4</td>\n",
              "      <td>2005</td>\n",
              "    </tr>\n",
              "    <tr>\n",
              "      <th>1</th>\n",
              "      <td>2</td>\n",
              "      <td>University of Cambridge</td>\n",
              "      <td>1</td>\n",
              "      <td>73.6</td>\n",
              "      <td>99.8</td>\n",
              "      <td>93.4</td>\n",
              "      <td>53.3</td>\n",
              "      <td>56.6</td>\n",
              "      <td>70.9</td>\n",
              "      <td>66.9</td>\n",
              "      <td>2005</td>\n",
              "    </tr>\n",
              "    <tr>\n",
              "      <th>2</th>\n",
              "      <td>3</td>\n",
              "      <td>Stanford University</td>\n",
              "      <td>2</td>\n",
              "      <td>73.4</td>\n",
              "      <td>41.1</td>\n",
              "      <td>72.2</td>\n",
              "      <td>88.5</td>\n",
              "      <td>70.9</td>\n",
              "      <td>72.3</td>\n",
              "      <td>65.0</td>\n",
              "      <td>2005</td>\n",
              "    </tr>\n",
              "    <tr>\n",
              "      <th>3</th>\n",
              "      <td>4</td>\n",
              "      <td>University of California, Berkeley</td>\n",
              "      <td>3</td>\n",
              "      <td>72.8</td>\n",
              "      <td>71.8</td>\n",
              "      <td>76.0</td>\n",
              "      <td>69.4</td>\n",
              "      <td>73.9</td>\n",
              "      <td>72.2</td>\n",
              "      <td>52.7</td>\n",
              "      <td>2005</td>\n",
              "    </tr>\n",
              "    <tr>\n",
              "      <th>4</th>\n",
              "      <td>5</td>\n",
              "      <td>Massachusetts Institute of Technology (MIT)</td>\n",
              "      <td>4</td>\n",
              "      <td>70.1</td>\n",
              "      <td>74.0</td>\n",
              "      <td>80.6</td>\n",
              "      <td>66.7</td>\n",
              "      <td>65.8</td>\n",
              "      <td>64.3</td>\n",
              "      <td>53.0</td>\n",
              "      <td>2005</td>\n",
              "    </tr>\n",
              "    <tr>\n",
              "      <th>...</th>\n",
              "      <td>...</td>\n",
              "      <td>...</td>\n",
              "      <td>...</td>\n",
              "      <td>...</td>\n",
              "      <td>...</td>\n",
              "      <td>...</td>\n",
              "      <td>...</td>\n",
              "      <td>...</td>\n",
              "      <td>...</td>\n",
              "      <td>...</td>\n",
              "      <td>...</td>\n",
              "    </tr>\n",
              "    <tr>\n",
              "      <th>4892</th>\n",
              "      <td>401-500</td>\n",
              "      <td>University of Trieste</td>\n",
              "      <td>11-20</td>\n",
              "      <td>NaN</td>\n",
              "      <td>0.0</td>\n",
              "      <td>0.0</td>\n",
              "      <td>5.0</td>\n",
              "      <td>10.9</td>\n",
              "      <td>25.1</td>\n",
              "      <td>20.1</td>\n",
              "      <td>2015</td>\n",
              "    </tr>\n",
              "    <tr>\n",
              "      <th>4893</th>\n",
              "      <td>401-500</td>\n",
              "      <td>University of Zaragoza</td>\n",
              "      <td>9-13</td>\n",
              "      <td>NaN</td>\n",
              "      <td>0.0</td>\n",
              "      <td>0.0</td>\n",
              "      <td>7.6</td>\n",
              "      <td>5.1</td>\n",
              "      <td>33.3</td>\n",
              "      <td>13.1</td>\n",
              "      <td>2015</td>\n",
              "    </tr>\n",
              "    <tr>\n",
              "      <th>4894</th>\n",
              "      <td>401-500</td>\n",
              "      <td>Utah State University</td>\n",
              "      <td>126-146</td>\n",
              "      <td>NaN</td>\n",
              "      <td>13.6</td>\n",
              "      <td>0.0</td>\n",
              "      <td>3.6</td>\n",
              "      <td>10.8</td>\n",
              "      <td>25.1</td>\n",
              "      <td>15.5</td>\n",
              "      <td>2015</td>\n",
              "    </tr>\n",
              "    <tr>\n",
              "      <th>4895</th>\n",
              "      <td>401-500</td>\n",
              "      <td>Vienna University of Technology</td>\n",
              "      <td>4-6</td>\n",
              "      <td>NaN</td>\n",
              "      <td>0.0</td>\n",
              "      <td>0.0</td>\n",
              "      <td>0.0</td>\n",
              "      <td>12.2</td>\n",
              "      <td>28.8</td>\n",
              "      <td>22.9</td>\n",
              "      <td>2015</td>\n",
              "    </tr>\n",
              "    <tr>\n",
              "      <th>4896</th>\n",
              "      <td>401-500</td>\n",
              "      <td>Wake Forest University</td>\n",
              "      <td>126-146</td>\n",
              "      <td>NaN</td>\n",
              "      <td>0.0</td>\n",
              "      <td>0.0</td>\n",
              "      <td>14.9</td>\n",
              "      <td>7.5</td>\n",
              "      <td>25.0</td>\n",
              "      <td>11.9</td>\n",
              "      <td>2015</td>\n",
              "    </tr>\n",
              "  </tbody>\n",
              "</table>\n",
              "<p>4897 rows × 11 columns</p>\n",
              "</div>\n",
              "      <button class=\"colab-df-convert\" onclick=\"convertToInteractive('df-53611799-2171-44b7-b688-40827c8b08ce')\"\n",
              "              title=\"Convert this dataframe to an interactive table.\"\n",
              "              style=\"display:none;\">\n",
              "        \n",
              "  <svg xmlns=\"http://www.w3.org/2000/svg\" height=\"24px\"viewBox=\"0 0 24 24\"\n",
              "       width=\"24px\">\n",
              "    <path d=\"M0 0h24v24H0V0z\" fill=\"none\"/>\n",
              "    <path d=\"M18.56 5.44l.94 2.06.94-2.06 2.06-.94-2.06-.94-.94-2.06-.94 2.06-2.06.94zm-11 1L8.5 8.5l.94-2.06 2.06-.94-2.06-.94L8.5 2.5l-.94 2.06-2.06.94zm10 10l.94 2.06.94-2.06 2.06-.94-2.06-.94-.94-2.06-.94 2.06-2.06.94z\"/><path d=\"M17.41 7.96l-1.37-1.37c-.4-.4-.92-.59-1.43-.59-.52 0-1.04.2-1.43.59L10.3 9.45l-7.72 7.72c-.78.78-.78 2.05 0 2.83L4 21.41c.39.39.9.59 1.41.59.51 0 1.02-.2 1.41-.59l7.78-7.78 2.81-2.81c.8-.78.8-2.07 0-2.86zM5.41 20L4 18.59l7.72-7.72 1.47 1.35L5.41 20z\"/>\n",
              "  </svg>\n",
              "      </button>\n",
              "      \n",
              "  <style>\n",
              "    .colab-df-container {\n",
              "      display:flex;\n",
              "      flex-wrap:wrap;\n",
              "      gap: 12px;\n",
              "    }\n",
              "\n",
              "    .colab-df-convert {\n",
              "      background-color: #E8F0FE;\n",
              "      border: none;\n",
              "      border-radius: 50%;\n",
              "      cursor: pointer;\n",
              "      display: none;\n",
              "      fill: #1967D2;\n",
              "      height: 32px;\n",
              "      padding: 0 0 0 0;\n",
              "      width: 32px;\n",
              "    }\n",
              "\n",
              "    .colab-df-convert:hover {\n",
              "      background-color: #E2EBFA;\n",
              "      box-shadow: 0px 1px 2px rgba(60, 64, 67, 0.3), 0px 1px 3px 1px rgba(60, 64, 67, 0.15);\n",
              "      fill: #174EA6;\n",
              "    }\n",
              "\n",
              "    [theme=dark] .colab-df-convert {\n",
              "      background-color: #3B4455;\n",
              "      fill: #D2E3FC;\n",
              "    }\n",
              "\n",
              "    [theme=dark] .colab-df-convert:hover {\n",
              "      background-color: #434B5C;\n",
              "      box-shadow: 0px 1px 3px 1px rgba(0, 0, 0, 0.15);\n",
              "      filter: drop-shadow(0px 1px 2px rgba(0, 0, 0, 0.3));\n",
              "      fill: #FFFFFF;\n",
              "    }\n",
              "  </style>\n",
              "\n",
              "      <script>\n",
              "        const buttonEl =\n",
              "          document.querySelector('#df-53611799-2171-44b7-b688-40827c8b08ce button.colab-df-convert');\n",
              "        buttonEl.style.display =\n",
              "          google.colab.kernel.accessAllowed ? 'block' : 'none';\n",
              "\n",
              "        async function convertToInteractive(key) {\n",
              "          const element = document.querySelector('#df-53611799-2171-44b7-b688-40827c8b08ce');\n",
              "          const dataTable =\n",
              "            await google.colab.kernel.invokeFunction('convertToInteractive',\n",
              "                                                     [key], {});\n",
              "          if (!dataTable) return;\n",
              "\n",
              "          const docLinkHtml = 'Like what you see? Visit the ' +\n",
              "            '<a target=\"_blank\" href=https://colab.research.google.com/notebooks/data_table.ipynb>data table notebook</a>'\n",
              "            + ' to learn more about interactive tables.';\n",
              "          element.innerHTML = '';\n",
              "          dataTable['output_type'] = 'display_data';\n",
              "          await google.colab.output.renderOutput(dataTable, element);\n",
              "          const docLink = document.createElement('div');\n",
              "          docLink.innerHTML = docLinkHtml;\n",
              "          element.appendChild(docLink);\n",
              "        }\n",
              "      </script>\n",
              "    </div>\n",
              "  </div>\n",
              "  "
            ]
          },
          "metadata": {},
          "execution_count": 38
        }
      ]
    },
    {
      "cell_type": "code",
      "source": [
        "sanghai_df.info()"
      ],
      "metadata": {
        "colab": {
          "base_uri": "https://localhost:8080/"
        },
        "id": "NWpifNR5vrFk",
        "outputId": "9321330d-0d01-47c5-ce56-0461d61e1250"
      },
      "execution_count": null,
      "outputs": [
        {
          "output_type": "stream",
          "name": "stdout",
          "text": [
            "<class 'pandas.core.frame.DataFrame'>\n",
            "RangeIndex: 4897 entries, 0 to 4896\n",
            "Data columns (total 11 columns):\n",
            " #   Column           Non-Null Count  Dtype  \n",
            "---  ------           --------------  -----  \n",
            " 0   world_rank       4897 non-null   object \n",
            " 1   university_name  4896 non-null   object \n",
            " 2   national_rank    4896 non-null   object \n",
            " 3   total_score      1101 non-null   float64\n",
            " 4   alumni           4896 non-null   float64\n",
            " 5   award            4895 non-null   float64\n",
            " 6   hici             4895 non-null   float64\n",
            " 7   ns               4875 non-null   float64\n",
            " 8   pub              4895 non-null   float64\n",
            " 9   pcp              4895 non-null   float64\n",
            " 10  year             4897 non-null   int64  \n",
            "dtypes: float64(7), int64(1), object(3)\n",
            "memory usage: 421.0+ KB\n"
          ]
        }
      ]
    },
    {
      "cell_type": "code",
      "source": [
        "sanghai_df.columns"
      ],
      "metadata": {
        "colab": {
          "base_uri": "https://localhost:8080/"
        },
        "id": "OQw8bDoIvwig",
        "outputId": "f312c799-0d87-4027-b085-5b1d547d6ffe"
      },
      "execution_count": null,
      "outputs": [
        {
          "output_type": "execute_result",
          "data": {
            "text/plain": [
              "Index(['world_rank', 'university_name', 'national_rank', 'total_score',\n",
              "       'alumni', 'award', 'hici', 'ns', 'pub', 'pcp', 'year'],\n",
              "      dtype='object')"
            ]
          },
          "metadata": {},
          "execution_count": 40
        }
      ]
    },
    {
      "cell_type": "code",
      "source": [
        "#결측값 확인\n",
        "sanghai_df.isnull().sum() #결측값 행이 과반수 이상이므로 total score은 제외"
      ],
      "metadata": {
        "colab": {
          "base_uri": "https://localhost:8080/"
        },
        "id": "BUDlR6Fxv19d",
        "outputId": "1b2e70b6-ad5e-4469-afef-c4531f728620"
      },
      "execution_count": null,
      "outputs": [
        {
          "output_type": "execute_result",
          "data": {
            "text/plain": [
              "world_rank            0\n",
              "university_name       1\n",
              "national_rank         1\n",
              "total_score        3796\n",
              "alumni                1\n",
              "award                 2\n",
              "hici                  2\n",
              "ns                   22\n",
              "pub                   2\n",
              "pcp                   2\n",
              "year                  0\n",
              "dtype: int64"
            ]
          },
          "metadata": {},
          "execution_count": 41
        }
      ]
    },
    {
      "cell_type": "code",
      "source": [
        "#결측값이 많은 total_score 제거\n",
        "sanghai_df=sanghai_df.drop('total_score',axis=1)\n",
        "sanghai_df.info()"
      ],
      "metadata": {
        "colab": {
          "base_uri": "https://localhost:8080/"
        },
        "id": "QjipUCDWwN8i",
        "outputId": "8e515f3f-ad43-46fd-c8a9-036870304fc8"
      },
      "execution_count": null,
      "outputs": [
        {
          "output_type": "stream",
          "name": "stdout",
          "text": [
            "<class 'pandas.core.frame.DataFrame'>\n",
            "RangeIndex: 4897 entries, 0 to 4896\n",
            "Data columns (total 10 columns):\n",
            " #   Column           Non-Null Count  Dtype  \n",
            "---  ------           --------------  -----  \n",
            " 0   world_rank       4897 non-null   object \n",
            " 1   university_name  4896 non-null   object \n",
            " 2   national_rank    4896 non-null   object \n",
            " 3   alumni           4896 non-null   float64\n",
            " 4   award            4895 non-null   float64\n",
            " 5   hici             4895 non-null   float64\n",
            " 6   ns               4875 non-null   float64\n",
            " 7   pub              4895 non-null   float64\n",
            " 8   pcp              4895 non-null   float64\n",
            " 9   year             4897 non-null   int64  \n",
            "dtypes: float64(6), int64(1), object(3)\n",
            "memory usage: 382.7+ KB\n"
          ]
        }
      ]
    },
    {
      "cell_type": "code",
      "source": [
        "#결측값 행 제거\n",
        "sanghai_df=sanghai_df.dropna()\n",
        "sanghai_df.isnull().sum()"
      ],
      "metadata": {
        "colab": {
          "base_uri": "https://localhost:8080/"
        },
        "id": "btRONkg-wuQf",
        "outputId": "d826a5e2-fb81-4db2-f0b0-472e53180420"
      },
      "execution_count": null,
      "outputs": [
        {
          "output_type": "execute_result",
          "data": {
            "text/plain": [
              "world_rank         0\n",
              "university_name    0\n",
              "national_rank      0\n",
              "alumni             0\n",
              "award              0\n",
              "hici               0\n",
              "ns                 0\n",
              "pub                0\n",
              "pcp                0\n",
              "year               0\n",
              "dtype: int64"
            ]
          },
          "metadata": {},
          "execution_count": 43
        }
      ]
    },
    {
      "cell_type": "code",
      "source": [
        "sanghai_df=sanghai_df[~sanghai_df['world_rank'].str.contains(\"-\", na=False, case=False)]"
      ],
      "metadata": {
        "id": "KzxpS_qIwuYE"
      },
      "execution_count": null,
      "outputs": []
    },
    {
      "cell_type": "code",
      "source": [
        "#데이터 유형 변경\n",
        "sanghai_df['world_rank']=sanghai_df['world_rank'].astype('float64')\n",
        "sanghai_df['world_rank']=sanghai_df['world_rank'].astype('int64')\n",
        "sanghai_df['national_rank']=sanghai_df['national_rank'].astype('float64')\n",
        "sanghai_df['national_rank']=sanghai_df['national_rank'].astype('int64')\n",
        "sanghai_df.info()"
      ],
      "metadata": {
        "id": "fprSaGbOxU4g",
        "colab": {
          "base_uri": "https://localhost:8080/"
        },
        "outputId": "16ff4544-a9f1-428f-94ba-386f0ec91126"
      },
      "execution_count": null,
      "outputs": [
        {
          "output_type": "stream",
          "name": "stdout",
          "text": [
            "<class 'pandas.core.frame.DataFrame'>\n",
            "Int64Index: 1101 entries, 0 to 4496\n",
            "Data columns (total 10 columns):\n",
            " #   Column           Non-Null Count  Dtype  \n",
            "---  ------           --------------  -----  \n",
            " 0   world_rank       1101 non-null   int64  \n",
            " 1   university_name  1101 non-null   object \n",
            " 2   national_rank    1101 non-null   int64  \n",
            " 3   alumni           1101 non-null   float64\n",
            " 4   award            1101 non-null   float64\n",
            " 5   hici             1101 non-null   float64\n",
            " 6   ns               1101 non-null   float64\n",
            " 7   pub              1101 non-null   float64\n",
            " 8   pcp              1101 non-null   float64\n",
            " 9   year             1101 non-null   int64  \n",
            "dtypes: float64(6), int64(3), object(1)\n",
            "memory usage: 94.6+ KB\n"
          ]
        }
      ]
    },
    {
      "cell_type": "code",
      "source": [
        "#독립변수 및 종속변수 데이터 지정\n",
        "X=sanghai_df[['national_rank', 'alumni','award', 'hici','ns',\n",
        "       'pub', 'pcp','year']]\n",
        "Y=sanghai_df['world_rank']"
      ],
      "metadata": {
        "id": "LBtwLt-wv7eu"
      },
      "execution_count": null,
      "outputs": []
    },
    {
      "cell_type": "code",
      "source": [
        "#데이터 분할 및 표준화\n",
        "X_train, X_test, Y_train, Y_test=train_test_split(X,Y,test_size=0.3,random_state=0)\n",
        "scaler=StandardScaler()\n",
        "scaler.fit(X_train)\n",
        "X_test=scaler.transform(X_test)\n",
        "X_train=scaler.transform(X_train)"
      ],
      "metadata": {
        "id": "IUKHoTt_yH8x"
      },
      "execution_count": null,
      "outputs": []
    },
    {
      "cell_type": "code",
      "source": [
        "\n",
        "#모형학습 및 예측\n",
        "from sklearn.ensemble import VotingRegressor\n",
        "from sklearn.neural_network import MLPRegressor\n",
        "from sklearn.tree import DecisionTreeRegressor\n",
        "from sklearn.neighbors import KNeighborsRegressor\n",
        "from sklearn.svm import SVR\n",
        "\n",
        "#단일 모형 객체 생성(svr모형, 인공신경망)\n",
        "svr=SVR()\n",
        "mlp=MLPRegressor(random_state=0)\n",
        "dt=DecisionTreeRegressor()\n",
        "knn=KNeighborsRegressor()\n",
        "\n",
        "model=VotingRegressor(estimators=[('SVR',svr),('MLP',mlp),('DT',dt),('KNN',knn)])\n",
        "\n",
        "model.fit(X_train, Y_train)\n",
        "Y_pred=model.predict(X_test)\n",
        "print('평가용 데이터 세트에 대한 예측값\\n', Y_pred)"
      ],
      "metadata": {
        "colab": {
          "base_uri": "https://localhost:8080/"
        },
        "id": "3PE4_BnByMof",
        "outputId": "953b60f5-f518-43dc-b8b7-f09a4d30a582"
      },
      "execution_count": null,
      "outputs": [
        {
          "output_type": "stream",
          "name": "stdout",
          "text": [
            "평가용 데이터 세트에 대한 예측값\n",
            " [66.14734289 12.09935517 72.21080195 82.88928064 38.72064549  8.94743414\n",
            " 59.00748118 85.22424707 36.46360219 73.69529497 79.24488415 12.3886916\n",
            " 52.20668164  5.96850669 20.83666376 88.46226292 52.67364658 87.48821316\n",
            " 85.23985041 22.87285853 14.61494681 50.15895246 15.07933791 79.96761963\n",
            "  8.91695024 29.38338958  9.4073324  24.37232148 23.65871574 41.51222979\n",
            "  9.03929235 87.83250904 69.72846241 49.16950905 28.11169414  7.07258762\n",
            " 33.94008199 60.49581501 64.54912528 82.5000748  63.64046983 58.51413935\n",
            " 67.63403204 88.45423126 22.73758855 84.32504128 89.8554445   9.67831467\n",
            " 46.52698257 11.50009124 82.9782248  11.86150975 76.17462064 20.75849601\n",
            "  8.13733343 30.32175234 86.48714268 45.88780219 91.77361502 15.19965259\n",
            " 60.57167592 27.67637523 62.88138243 87.04286892  7.42311455 76.2353525\n",
            " 27.16397863 53.71218927 70.48115612 69.92834589 61.70518657 18.33504754\n",
            " 35.17469326 73.0068248  78.16353232 84.75234284 62.18536872 14.40664964\n",
            " 34.77782095 82.11020617 69.72700321 58.20739399 75.38448874 52.00924371\n",
            " 58.63068361 80.05674228 63.37689323 29.68318684 83.95521181 32.53178561\n",
            " 24.64804727 13.07740478 18.34588354 10.02189668 73.24639782 68.06729745\n",
            " 23.67706161 79.94947525 37.94240471 49.19258748 40.35340805  8.8016606\n",
            " 85.31263656  9.81365897 15.41421753 70.2358217  44.3658316  89.04757225\n",
            " 17.46811176 84.02979119  5.85723853 30.10764297 51.24089866 80.39403803\n",
            " 67.67814645 15.41001903 68.63172029 44.29395427 85.06580055 11.50748735\n",
            " 35.93399719 58.53762571 54.03693144 40.17151436 31.62784041  9.27896847\n",
            "  8.86297952 58.95680292 14.67144278  7.65584477 84.28502053 15.77866074\n",
            " 16.36341819 26.93085697 48.19696784 48.90691636 71.59637144 60.71055467\n",
            " 53.49708897  7.06089325 86.61560896 68.76528721 78.77916158 32.85871057\n",
            " 52.67162846 20.20834617 17.46022706 27.71712564 37.30489661 79.59193244\n",
            " 60.90970109 85.73671963 89.84007269 44.93640842 86.97962806 52.96355636\n",
            " 55.40230583 20.39485395 14.76542039 19.63403047  7.56358082 28.13219495\n",
            " 79.68415488 44.69604601 46.33153076 76.6655387   6.8037249   7.77427101\n",
            " 10.91083123 55.54688596 43.84257005 86.19603381 22.42799157 84.95577545\n",
            " 58.86823477 36.04343577  7.76758941 65.41829545 88.48505497  6.1156282\n",
            " 86.294277   87.18372034 26.45102563 16.82268285 21.62153967 83.67450213\n",
            " 11.3195094   9.45121678  9.48860131 10.16493721  5.96463727 22.84636569\n",
            " 85.26351686 66.46908216 85.14812113 74.71189937 15.14560178  9.50918169\n",
            " 20.22464562 71.33272214 81.3980161  84.32118609  8.84267968 24.98911423\n",
            " 71.10711241 61.20583868 68.12142509 20.06991081 71.90500553 83.47775208\n",
            " 67.92293919 15.7314545  52.83115816 29.64304804 69.40052102 62.02551287\n",
            " 71.36954096 41.20062672 10.87872821 79.39722685 83.55337956 69.09752289\n",
            "  8.46521454 54.63685817 69.91396147 14.88629488 88.33570097  9.278616\n",
            " 64.35594081 55.75947107 24.32821705  5.59823945 64.28576361 81.35344687\n",
            " 18.61681173 61.36070937 85.27060511 44.3242488  77.96291041 49.83057507\n",
            " 84.97091121 86.65804326 66.30002126 31.65556055 60.70753698 82.43333105\n",
            " 30.94243111 70.21180048 12.95500293 93.00081309 65.08932482 13.74818256\n",
            " 10.60928345 30.99703426 13.8987027  82.03996917 64.0869826  51.85013477\n",
            " 87.27485884 29.85729343 13.40991645 14.95502734 50.14930002 54.1462464\n",
            " 55.62684963 84.36952517 87.77945023 66.3963794   8.96122183 61.19742895\n",
            " 21.70017633 10.43034054 43.99997651  8.38632884 54.66602582 12.56578847\n",
            " 59.61158701 86.0930252  60.41254811 46.02169353 87.6049101  42.43830843\n",
            " 86.07485601 70.48989647 73.03994912 76.30002011  8.86756476 81.45995464\n",
            " 28.17487372 13.48865136 86.08607046 87.97513507 46.50461986 66.12541272\n",
            " 55.09872994 18.38039753 24.52929488 78.76236994 48.40030978 47.61875259\n",
            " 52.05276471 60.85962934 31.83269508 13.66861027 15.01757635 26.29676421\n",
            " 37.89344342 79.49351769 68.58810346 83.29191517 56.75677328 60.95015088\n",
            " 73.50924169 84.85409852 42.82139044 53.03197268 17.91214544 44.36490256\n",
            " 13.95943058 18.08080243 80.74454175 15.06889797 84.42653105 38.8830088\n",
            " 47.48387721 59.65601307 44.87631468 22.37282589 12.53774188  9.16520088\n",
            " 18.82007784]\n"
          ]
        },
        {
          "output_type": "stream",
          "name": "stderr",
          "text": [
            "/usr/local/lib/python3.7/dist-packages/sklearn/neural_network/_multilayer_perceptron.py:696: ConvergenceWarning: Stochastic Optimizer: Maximum iterations (200) reached and the optimization hasn't converged yet.\n",
            "  ConvergenceWarning,\n"
          ]
        }
      ]
    },
    {
      "cell_type": "code",
      "source": [],
      "metadata": {
        "id": "dIzI9oawLcHe"
      },
      "execution_count": null,
      "outputs": []
    },
    {
      "cell_type": "code",
      "source": [
        "#보팅 모형의 훈련 a및 테스트 결정계수\n",
        "model.fit(X_train, Y_train)\n",
        "print('Voting 앙상블 훈련 결정계수: {0:.3f}'.format(model.score(X_train,Y_train)))\n",
        "print('Voting 앙상블 테스트 결정계수: {0:.3f}'.format(model.score(X_test,Y_test)))\n",
        "sanghai_vote=model.score(X_test,Y_test)\n",
        "sanghai_vote_sub=abs(model.score(X_test,Y_test)-model.score(X_train,Y_train))\n",
        "#개별모형의 훈련 및 테스트결정계수\n",
        "Regressors=[svr,mlp,dt,knn]\n",
        "i=0\n",
        "sanghai_list=[]\n",
        "sanghai_sub_list=[]\n",
        "for Regressor in Regressors:\n",
        "  Regressor.fit(X_train, Y_train)\n",
        "  class_name=Regressor.__class__.__name__\n",
        "  print('{0} 훈련 결정계수: {1:.3f}'.format(class_name,Regressor.score(X_train, Y_train)))\n",
        "  print('{0} 테스트 결정계수: {1:.3f}'.format(class_name,Regressor.score(X_test, Y_test)))\n",
        "  sanghai_list.append(Regressor.score(X_test, Y_test))\n",
        "  sanghai_sub_list.append(abs(Regressor.score(X_test,Y_test)-Regressor.score(X_train,Y_train)))"
      ],
      "metadata": {
        "colab": {
          "base_uri": "https://localhost:8080/"
        },
        "id": "EmRS0v-dyR7V",
        "outputId": "029a8fae-f305-4f2f-8a84-1db637135e24"
      },
      "execution_count": null,
      "outputs": [
        {
          "output_type": "stream",
          "name": "stderr",
          "text": [
            "/usr/local/lib/python3.7/dist-packages/sklearn/neural_network/_multilayer_perceptron.py:696: ConvergenceWarning: Stochastic Optimizer: Maximum iterations (200) reached and the optimization hasn't converged yet.\n",
            "  ConvergenceWarning,\n"
          ]
        },
        {
          "output_type": "stream",
          "name": "stdout",
          "text": [
            "Voting 앙상블 훈련 결정계수: 0.982\n",
            "Voting 앙상블 테스트 결정계수: 0.977\n",
            "SVR 훈련 결정계수: 0.867\n",
            "SVR 테스트 결정계수: 0.872\n",
            "MLPRegressor 훈련 결정계수: 0.957\n",
            "MLPRegressor 테스트 결정계수: 0.957\n",
            "DecisionTreeRegressor 훈련 결정계수: 1.000\n",
            "DecisionTreeRegressor 테스트 결정계수: 0.972\n",
            "KNeighborsRegressor 훈련 결정계수: 0.982\n",
            "KNeighborsRegressor 테스트 결정계수: 0.976\n"
          ]
        },
        {
          "output_type": "stream",
          "name": "stderr",
          "text": [
            "/usr/local/lib/python3.7/dist-packages/sklearn/neural_network/_multilayer_perceptron.py:696: ConvergenceWarning: Stochastic Optimizer: Maximum iterations (200) reached and the optimization hasn't converged yet.\n",
            "  ConvergenceWarning,\n"
          ]
        }
      ]
    },
    {
      "cell_type": "code",
      "source": [
        "#모형평가\n",
        "from sklearn.metrics import mean_squared_error\n",
        "from math import sqrt\n",
        "\n",
        "rmse=sqrt(mean_squared_error(Y_test,Y_pred))\n",
        "print('RMSE: {:.3f}'.format(rmse))\n",
        "\n",
        "sanghai_vote_rmse=rmse\n"
      ],
      "metadata": {
        "colab": {
          "base_uri": "https://localhost:8080/"
        },
        "id": "rj0TUU_8yX_d",
        "outputId": "13558ec5-3395-4bb3-f323-c32d55da9826"
      },
      "execution_count": null,
      "outputs": [
        {
          "output_type": "stream",
          "name": "stdout",
          "text": [
            "RMSE: 4.468\n"
          ]
        }
      ]
    },
    {
      "cell_type": "code",
      "source": [
        "#상하이 대학순위 분석_랭킹순위예측\n",
        "#랜덤포레스트 수치예측실습\n",
        "#독립변수 및 종속변수 데이터 지정\n",
        "X=sanghai_df[['national_rank', 'alumni','award', 'hici','ns',\n",
        "       'pub', 'pcp','year']]\n",
        "Y=sanghai_df['world_rank']\n",
        "\n",
        "#데이터 분할\n",
        "X_train, X_test, Y_train, Y_test=train_test_split(X,Y,test_size=0.3,random_state=0)"
      ],
      "metadata": {
        "id": "O4e2wDs3gxr6"
      },
      "execution_count": null,
      "outputs": []
    },
    {
      "cell_type": "code",
      "source": [
        "#모형 학습 및 예측\n",
        "from sklearn.ensemble import RandomForestRegressor\n",
        "model=RandomForestRegressor(random_state=0, n_estimators=100, max_depth=4)\n",
        "model.fit(X_train, Y_train)\n",
        "Y_pred=model.predict(X_test)"
      ],
      "metadata": {
        "id": "6LdPni87ywbY"
      },
      "execution_count": null,
      "outputs": []
    },
    {
      "cell_type": "code",
      "source": [
        "#모형평가: 결정계수 평가\n",
        "print('학습용 데이터 세트 결정계수: {:.3f}'.format(model.score(X_train, Y_train)))\n",
        "print('평가용 데이터 세트 결정계수 :{:.3f}'.format(model.score(X_test, Y_test)))\n",
        "sanghai_random=model.score(X_test, Y_test)\n",
        "sanghai_random_sub=abs(model.score(X_test,Y_test)-model.score(X_train,Y_train))"
      ],
      "metadata": {
        "colab": {
          "base_uri": "https://localhost:8080/"
        },
        "id": "bMu12sfcy5fK",
        "outputId": "6e694464-ed70-4ad3-d1e2-6ab9591565a5"
      },
      "execution_count": null,
      "outputs": [
        {
          "output_type": "stream",
          "name": "stdout",
          "text": [
            "학습용 데이터 세트 결정계수: 0.944\n",
            "평가용 데이터 세트 결정계수 :0.933\n"
          ]
        }
      ]
    },
    {
      "cell_type": "code",
      "source": [
        "#모형평가: rmse평가\n",
        "rmse=sqrt(mean_squared_error(Y_test, Y_pred))\n",
        "print('RMSE: {:.3f}'.format(rmse))\n",
        "\n",
        "sanghai_random_rmse=rmse"
      ],
      "metadata": {
        "colab": {
          "base_uri": "https://localhost:8080/"
        },
        "id": "EkLGkvwry6to",
        "outputId": "418d5671-0da1-4277-bacf-fc09bcdb089a"
      },
      "execution_count": null,
      "outputs": [
        {
          "output_type": "stream",
          "name": "stdout",
          "text": [
            "RMSE: 7.691\n"
          ]
        }
      ]
    },
    {
      "cell_type": "code",
      "source": [
        "#변수 중요도 출력\n",
        "feature_name=X.columns\n",
        "feature_importances=model.feature_importances_\n",
        "sorted(zip(feature_importances, feature_name), reverse=True)"
      ],
      "metadata": {
        "colab": {
          "base_uri": "https://localhost:8080/"
        },
        "id": "Oa3qX2tr2by2",
        "outputId": "d4a97279-98a9-4cac-ea5c-e282bcc3b0e4"
      },
      "execution_count": null,
      "outputs": [
        {
          "output_type": "execute_result",
          "data": {
            "text/plain": [
              "[(0.7488138794599274, 'ns'),\n",
              " (0.10033852182355797, 'hici'),\n",
              " (0.06359177810041083, 'national_rank'),\n",
              " (0.06023998383758863, 'award'),\n",
              " (0.011575837551600864, 'pub'),\n",
              " (0.011453143920062182, 'alumni'),\n",
              " (0.003888927680066406, 'pcp'),\n",
              " (9.79276267858083e-05, 'year')]"
            ]
          },
          "metadata": {},
          "execution_count": 55
        }
      ]
    },
    {
      "cell_type": "code",
      "source": [
        "import matplotlib.pyplot as plt\n",
        "\n",
        "ratio = list(model.feature_importances_)\n",
        "labels = list(feature_name)\n",
        "wedgeprops={'width': 0.7, 'edgecolor': 'w', 'linewidth': 5}\n",
        "plt.pie(ratio, labels=labels, autopct='%.1f%%', startangle=260, counterclock=False, wedgeprops=wedgeprops)\n",
        "plt.show()"
      ],
      "metadata": {
        "colab": {
          "base_uri": "https://localhost:8080/",
          "height": 248
        },
        "id": "fsIq2q8bdDTN",
        "outputId": "cdfe6d6b-828c-4e26-dc4f-e8ec626e67e5"
      },
      "execution_count": null,
      "outputs": [
        {
          "output_type": "display_data",
          "data": {
            "text/plain": [
              "<Figure size 432x288 with 1 Axes>"
            ],
            "image/png": "[encoded data removed]"
          },
          "metadata": {}
        }
      ]
    },
    {
      "cell_type": "code",
      "source": [
        "#상하이 대학순위 분석_랭킹순위예측\n",
        "#그래디언트부스팅 수치예측실습\n",
        "#독립변수 및 종속변수 데이터 지정\n",
        "X=sanghai_df[['national_rank', 'alumni','award', 'hici','ns',\n",
        "       'pub', 'pcp','year']]\n",
        "Y=sanghai_df['world_rank']\n",
        "\n",
        "#데이터 분할\n",
        "X_train, X_test, Y_train, Y_test=train_test_split(X,Y,test_size=0.3,random_state=0)"
      ],
      "metadata": {
        "id": "LVqevt97y_Ts"
      },
      "execution_count": null,
      "outputs": []
    },
    {
      "cell_type": "code",
      "source": [
        "#모형 학습 예측\n",
        "from sklearn.ensemble import GradientBoostingRegressor\n",
        "model=GradientBoostingRegressor(random_state=0, max_depth=2, n_estimators=100, learning_rate=0.1)\n",
        "\n",
        "model.fit(X_train, Y_train)\n",
        "Y_pred=model.predict(X_test)\n",
        "Y_pred"
      ],
      "metadata": {
        "id": "dukmxeHqh-Od",
        "colab": {
          "base_uri": "https://localhost:8080/"
        },
        "outputId": "668d4841-7d90-461f-9b62-c051b49d0a77"
      },
      "execution_count": null,
      "outputs": [
        {
          "output_type": "execute_result",
          "data": {
            "text/plain": [
              "array([67.51282672, 14.3540348 , 73.25900195, 83.49006728, 40.08144032,\n",
              "        4.62798868, 63.79952483, 92.60504252, 38.01389873, 73.54252434,\n",
              "       78.53150713,  9.97190877, 49.06992801,  4.98632402, 23.44476771,\n",
              "       91.72280762, 59.1140485 , 97.85850011, 93.37779697, 24.28390275,\n",
              "       14.23806833, 45.65734169, 15.73669276, 85.71245106,  4.78466478,\n",
              "       33.84749653,  9.8559423 , 21.49840357, 23.02063914, 48.92627678,\n",
              "        8.2537571 , 92.49178889, 65.18723929, 45.59987029, 31.05473201,\n",
              "        5.06743327, 38.18613135, 58.53771238, 63.45839253, 81.83307501,\n",
              "       65.69642538, 58.68527852, 66.32086612, 92.01036241, 23.40555259,\n",
              "       86.72447386, 92.21682136,  9.36393771, 46.47161103,  9.97190877,\n",
              "       85.63342522,  3.35081046, 77.10070849, 23.46708083,  5.05449401,\n",
              "       31.85982213, 87.73196009, 46.05129923, 92.17869311, 17.97998221,\n",
              "       63.56560679, 31.05473201, 71.09630039, 92.40768245,  7.74702484,\n",
              "       75.77807568, 26.29442964, 51.96464236, 69.51530323, 69.54849296,\n",
              "       62.76585425, 16.98789297, 36.38055071, 74.1670134 , 79.35689722,\n",
              "       85.20549694, 75.79956754, 17.97197935, 34.91260132, 81.40461441,\n",
              "       66.47258324, 60.05508897, 81.42937567, 45.65419499, 61.08914222,\n",
              "       82.17497028, 64.82150776, 35.31177901, 82.91727133, 34.5452352 ,\n",
              "       31.11636211, 15.49764056, 20.60231651,  5.05449401, 74.88244799,\n",
              "       63.69025022, 26.69215658, 86.1840547 , 35.22150895, 46.42922541,\n",
              "       44.49471272,  8.34719317, 92.3492628 ,  9.5206138 , 17.93111264,\n",
              "       68.15030178, 47.41452937, 91.69050971, 21.50331015, 82.03393397,\n",
              "        5.07167283, 34.89200485, 50.9409773 , 79.01725278, 65.44461556,\n",
              "       21.97812889, 71.26407836, 50.43623507, 80.84445792,  3.35081046,\n",
              "       37.39282743, 53.89144705, 51.96464236, 42.67218417, 32.90084672,\n",
              "       10.64899463,  4.78466478, 58.76754002, 17.15948237,  4.95428013,\n",
              "       86.50783882, 14.30169412, 24.25739892, 27.05126513, 50.11259042,\n",
              "       55.21209285, 75.54963833, 74.85680028, 70.67566918,  5.06940272,\n",
              "       85.08953047, 77.44044812, 77.73195337, 33.53226956, 50.96195774,\n",
              "       20.57770907, 16.98789297, 30.08184821, 36.77452047, 80.99065109,\n",
              "       59.69657838, 90.14381688, 85.98937655, 47.16532939, 86.77538812,\n",
              "       54.67431565, 54.16839205, 18.76199734, 21.97812889, 22.09854463,\n",
              "        5.06516317, 30.03003469, 85.51596953, 45.98773833, 51.85317206,\n",
              "       81.5941869 ,  5.06516317,  7.01135191,  9.26891163, 50.6846647 ,\n",
              "       50.15391223, 91.62954561, 23.37091588, 85.76836429, 67.61965305,\n",
              "       43.20570744,  8.35592475, 68.19860503, 91.66764215,  4.79533393,\n",
              "       91.47085786, 89.93421298, 30.29079592, 20.60231651, 23.37091588,\n",
              "       83.62453239,  5.24873502,  9.8559423 ,  8.32680707,  4.78466478,\n",
              "        4.79760404, 22.47026319, 88.30365105, 62.03459778, 82.71782465,\n",
              "       70.44581434, 20.44521899,  8.251487  , 20.57770907, 72.65548497,\n",
              "       84.74470431, 87.87510011,  4.79533393, 26.9600701 , 69.22378341,\n",
              "       53.34797752, 69.90436755, 21.22242185, 67.68371981, 86.14778943,\n",
              "       69.00197989, 21.95729158, 49.83713981, 30.23379526, 69.21092711,\n",
              "       75.06519235, 75.15632208, 39.58800034,  9.97190877, 84.18336648,\n",
              "       82.15036332, 68.64506175,  4.79533393, 60.91196251, 67.30028024,\n",
              "       14.30169412, 91.9053251 ,  8.34492307, 68.26057013, 60.8401925 ,\n",
              "       27.54692755,  5.24128818, 75.57068842, 91.08356167, 19.03603216,\n",
              "       62.76585425, 81.68747819, 49.49681651, 84.00914915, 57.25758404,\n",
              "       80.92138433, 81.63836726, 68.11303631, 34.5452352 , 63.67998765,\n",
              "       85.29080592, 32.61593499, 63.57804315, 14.23806833, 91.69050971,\n",
              "       71.50005685, 19.2145143 ,  8.251487  , 26.4103961 , 16.59869377,\n",
              "       73.24667286, 67.22649935, 48.2839506 , 86.82372792, 31.14297032,\n",
              "       18.69534528, 14.30169412, 44.43355924, 52.97343234, 52.00877869,\n",
              "       80.99065109, 86.92455749, 64.99367649,  5.05449401, 69.97700599,\n",
              "       20.75730133,  9.7182912 , 48.51425013,  8.34492307, 47.98402398,\n",
              "       14.23806833, 64.13507734, 93.68503042, 54.57091219, 51.95884209,\n",
              "       89.90096668, 44.25461371, 91.34651395, 85.71094649, 71.62067033,\n",
              "       82.69390394,  4.79533393, 84.54978872, 28.81554136, 16.59869377,\n",
              "       89.31179424, 89.04286188, 43.57560062, 65.64285026, 60.79990615,\n",
              "       20.21410137, 26.9600701 , 80.11369042, 47.16532939, 43.37820183,\n",
              "       54.74613065, 61.96595729, 36.31792967, 14.23806833, 21.86216242,\n",
              "       28.91211535, 43.37311958, 83.38924317, 76.5504401 , 81.85732175,\n",
              "       48.73617246, 62.76585425, 74.74483322, 80.77148282, 43.22850152,\n",
              "       56.57087176, 24.25739892, 42.67218417, 14.8245894 , 21.50331015,\n",
              "       81.74763799, 14.86056999, 87.43880041, 34.92573725, 45.19383127,\n",
              "       59.85338197, 47.41452937, 21.24162676, 11.99032281,  8.32453697,\n",
              "       19.95618106])"
            ]
          },
          "metadata": {},
          "execution_count": 58
        }
      ]
    },
    {
      "cell_type": "code",
      "source": [
        "#모형평가: 결정계수 평가\n",
        "print('학습용 데이터 세트 결정계수: {:.3f}'.format(model.score(X_train, Y_train)))\n",
        "print('평가용 데이터 세트 결정계수 :{:.3f}'.format(model.score(X_test, Y_test)))\n",
        "sanghai_gd=model.score(X_test, Y_test)\n",
        "sanghai_gd_sub=abs(model.score(X_test,Y_test)-model.score(X_train,Y_train))"
      ],
      "metadata": {
        "colab": {
          "base_uri": "https://localhost:8080/"
        },
        "id": "idOTI4t3zPoG",
        "outputId": "3c9687e7-4b8d-4930-92a5-976730f321ce"
      },
      "execution_count": null,
      "outputs": [
        {
          "output_type": "stream",
          "name": "stdout",
          "text": [
            "학습용 데이터 세트 결정계수: 0.982\n",
            "평가용 데이터 세트 결정계수 :0.975\n"
          ]
        }
      ]
    },
    {
      "cell_type": "code",
      "source": [
        "#모형평가: rmse평가\n",
        "rmse=sqrt(mean_squared_error(Y_test, Y_pred))\n",
        "print('RMSE: {:.3f}'.format(rmse))\n",
        "\n",
        "sanghai_gd_rmse=rmse"
      ],
      "metadata": {
        "colab": {
          "base_uri": "https://localhost:8080/"
        },
        "id": "Vy3ZIbYqzNMI",
        "outputId": "bb8e3263-18f2-4a1b-a3c7-056e84c4e6fe"
      },
      "execution_count": null,
      "outputs": [
        {
          "output_type": "stream",
          "name": "stdout",
          "text": [
            "RMSE: 4.664\n"
          ]
        }
      ]
    },
    {
      "cell_type": "code",
      "source": [
        "#변수 중요도 출력\n",
        "feature_name=X.columns\n",
        "feature_importances=model.feature_importances_\n",
        "sorted(zip(feature_importances, feature_name), reverse=True)"
      ],
      "metadata": {
        "colab": {
          "base_uri": "https://localhost:8080/"
        },
        "id": "pwCJprPp2g5H",
        "outputId": "0cb8f829-ce87-44b2-8582-641e03eb1089"
      },
      "execution_count": null,
      "outputs": [
        {
          "output_type": "execute_result",
          "data": {
            "text/plain": [
              "[(0.4681156359432098, 'ns'),\n",
              " (0.2928299611151867, 'hici'),\n",
              " (0.10245157180709842, 'award'),\n",
              " (0.07708605803530601, 'national_rank'),\n",
              " (0.03125844205296991, 'alumni'),\n",
              " (0.021793200857807234, 'pub'),\n",
              " (0.00620482995703428, 'pcp'),\n",
              " (0.00026030023138762844, 'year')]"
            ]
          },
          "metadata": {},
          "execution_count": 61
        }
      ]
    },
    {
      "cell_type": "code",
      "source": [
        "import matplotlib.pyplot as plt\n",
        "\n",
        "ratio = list(model.feature_importances_)\n",
        "labels = list(feature_name)\n",
        "wedgeprops={'width': 0.7, 'edgecolor': 'w', 'linewidth': 5}\n",
        "plt.pie(ratio, labels=labels, autopct='%.1f%%', startangle=260, counterclock=False, wedgeprops=wedgeprops)\n",
        "plt.show()"
      ],
      "metadata": {
        "colab": {
          "base_uri": "https://localhost:8080/",
          "height": 248
        },
        "id": "PDt9rxTSdlus",
        "outputId": "1cce8dcd-d78b-4c28-e0db-3eb95815c4dd"
      },
      "execution_count": null,
      "outputs": [
        {
          "output_type": "display_data",
          "data": {
            "text/plain": [
              "<Figure size 432x288 with 1 Axes>"
            ],
            "image/png": "[encoded data removed]"
          },
          "metadata": {}
        }
      ]
    },
    {
      "cell_type": "code",
      "source": [
        "#상하이 대학순위 분석_랭킹순위예측\n",
        "#딥러닝_dnn(심층신경망) 수치예측실습\n",
        "import numpy as np\n",
        "X=sanghai_df[['national_rank', 'alumni','award', 'hici','ns',\n",
        "       'pub', 'pcp','year']]\n",
        "Y=sanghai_df['world_rank']\n",
        "\n",
        "#X=X.astype('float32')\n",
        "\n",
        "X_train, X_test, Y_train, Y_test=train_test_split(X,Y,test_size=0.3,random_state=0)\n",
        "\n",
        "#표준화\n",
        "scaler=StandardScaler().fit(X_train)\n",
        "X_test=scaler.transform(X_test)\n",
        "X_train=scaler.transform(X_train)\n",
        "X_test"
      ],
      "metadata": {
        "id": "DZGVDPwgiF6a",
        "colab": {
          "base_uri": "https://localhost:8080/"
        },
        "outputId": "e858a8a2-c0e0-4aef-fc61-b9de5ccdc8d0"
      },
      "execution_count": null,
      "outputs": [
        {
          "output_type": "execute_result",
          "data": {
            "text/plain": [
              "array([[-0.82988495, -0.20218722,  0.26484048, ..., -0.33324875,\n",
              "        -0.36741482,  0.0412237 ],\n",
              "       [-0.22544737,  0.57482084,  0.36684579, ...,  1.12522093,\n",
              "         0.40772236,  0.35550342],\n",
              "       [-0.89032871,  1.20512109,  0.36220918, ..., -0.39806962,\n",
              "         0.03189827, -0.27305602],\n",
              "       ...,\n",
              "       [-0.34633489,  0.2325026 ,  0.75168401, ...,  1.6194801 ,\n",
              "        -0.07771709,  0.35550342],\n",
              "       [-0.52766616,  2.38421724,  1.90156208, ...,  1.12522093,\n",
              "        -0.02290941,  0.35550342],\n",
              "       [ 0.19765894,  0.46614838,  0.4688511 , ...,  0.27444695,\n",
              "        -0.30477747,  0.35550342]])"
            ]
          },
          "metadata": {},
          "execution_count": 63
        }
      ]
    },
    {
      "cell_type": "code",
      "source": [
        "#필요한 모듈 불러오기\n",
        "import numpy as np\n",
        "import tensorflow as tf\n",
        "import keras\n",
        "from keras.models import Sequential\n",
        "from keras.layers import Dense, Activation\n",
        "from keras.metrics import Accuracy\n",
        "\n",
        "np.random.seed(0)\n",
        "tf.random.set_seed(0)\n",
        "\n",
        "model=keras.models.Sequential()\n",
        "model.add(keras.layers.Dense(64, input_dim=8, activation='relu'))\n",
        "model.add(keras.layers.Dense(64, activation='relu'))\n",
        "model.add(keras.layers.Dense(32, activation='relu'))\n",
        "model.add(keras.layers.Dense(32, activation='relu'))\n",
        "model.add(keras.layers.Dense(16, activation='relu'))\n",
        "model.add(keras.layers.Dense(8, activation='relu'))\n",
        "model.add(keras.layers.Dense(8, activation='relu'))\n",
        "#model.add(keras.layers.Dense(1,activation='sigmoid'))\n",
        "model.add(keras.layers.Dense(1)) #수치 예측은 활성화함수가 필요하지 않음\n",
        "\n",
        "\n",
        "model.compile(loss=\"mse\",optimizer='adam')\n",
        "\n",
        "#모형 학습 및 예측\n",
        "history=model.fit(X_train, Y_train, epochs=20, validation_split=0.2, batch_size=64, verbose=0)\n",
        "Y_pred=np.round(model.predict(X_test, verbose=0),3)\n",
        "print('평가용 데이터 세트에 대한 예측값\\n', Y_pred)"
      ],
      "metadata": {
        "colab": {
          "base_uri": "https://localhost:8080/"
        },
        "id": "3wS2gsTDzwH9",
        "outputId": "5399f986-2a39-4ee2-8215-927aeba079ff"
      },
      "execution_count": null,
      "outputs": [
        {
          "output_type": "stream",
          "name": "stdout",
          "text": [
            "평가용 데이터 세트에 대한 예측값\n",
            " [[65.329]\n",
            " [ 8.007]\n",
            " [74.658]\n",
            " [79.176]\n",
            " [40.28 ]\n",
            " [ 6.66 ]\n",
            " [61.44 ]\n",
            " [93.022]\n",
            " [33.361]\n",
            " [74.296]\n",
            " [75.14 ]\n",
            " [11.517]\n",
            " [48.952]\n",
            " [ 4.999]\n",
            " [17.046]\n",
            " [91.263]\n",
            " [49.435]\n",
            " [87.184]\n",
            " [93.136]\n",
            " [27.909]\n",
            " [11.277]\n",
            " [53.692]\n",
            " [14.459]\n",
            " [84.094]\n",
            " [ 6.789]\n",
            " [27.441]\n",
            " [ 5.015]\n",
            " [21.69 ]\n",
            " [20.93 ]\n",
            " [39.571]\n",
            " [ 6.315]\n",
            " [94.514]\n",
            " [71.739]\n",
            " [51.302]\n",
            " [27.088]\n",
            " [ 5.05 ]\n",
            " [33.072]\n",
            " [57.837]\n",
            " [67.608]\n",
            " [82.974]\n",
            " [66.8  ]\n",
            " [60.439]\n",
            " [60.45 ]\n",
            " [91.712]\n",
            " [12.405]\n",
            " [89.157]\n",
            " [95.787]\n",
            " [ 5.184]\n",
            " [49.452]\n",
            " [ 9.435]\n",
            " [83.75 ]\n",
            " [ 7.61 ]\n",
            " [77.361]\n",
            " [12.043]\n",
            " [ 7.15 ]\n",
            " [33.26 ]\n",
            " [86.64 ]\n",
            " [40.945]\n",
            " [90.98 ]\n",
            " [10.716]\n",
            " [57.708]\n",
            " [26.112]\n",
            " [61.324]\n",
            " [92.693]\n",
            " [ 4.709]\n",
            " [86.28 ]\n",
            " [13.863]\n",
            " [53.894]\n",
            " [75.151]\n",
            " [66.415]\n",
            " [65.347]\n",
            " [12.374]\n",
            " [36.133]\n",
            " [76.457]\n",
            " [87.762]\n",
            " [90.883]\n",
            " [70.534]\n",
            " [13.921]\n",
            " [30.439]\n",
            " [82.715]\n",
            " [71.65 ]\n",
            " [60.798]\n",
            " [76.536]\n",
            " [49.677]\n",
            " [57.217]\n",
            " [83.156]\n",
            " [63.158]\n",
            " [33.099]\n",
            " [87.266]\n",
            " [38.525]\n",
            " [16.268]\n",
            " [11.555]\n",
            " [20.2  ]\n",
            " [ 8.454]\n",
            " [79.445]\n",
            " [59.012]\n",
            " [17.092]\n",
            " [81.905]\n",
            " [31.493]\n",
            " [50.026]\n",
            " [50.79 ]\n",
            " [ 6.809]\n",
            " [91.848]\n",
            " [ 5.59 ]\n",
            " [ 9.111]\n",
            " [69.96 ]\n",
            " [53.056]\n",
            " [90.58 ]\n",
            " [12.637]\n",
            " [99.779]\n",
            " [ 5.515]\n",
            " [24.466]\n",
            " [58.325]\n",
            " [80.584]\n",
            " [67.928]\n",
            " [16.77 ]\n",
            " [65.866]\n",
            " [37.978]\n",
            " [87.441]\n",
            " [ 7.357]\n",
            " [33.682]\n",
            " [62.94 ]\n",
            " [57.244]\n",
            " [39.024]\n",
            " [22.821]\n",
            " [10.711]\n",
            " [ 7.158]\n",
            " [60.186]\n",
            " [15.982]\n",
            " [ 6.659]\n",
            " [87.317]\n",
            " [13.866]\n",
            " [18.843]\n",
            " [17.792]\n",
            " [49.612]\n",
            " [52.582]\n",
            " [68.182]\n",
            " [68.782]\n",
            " [54.593]\n",
            " [ 5.635]\n",
            " [89.439]\n",
            " [73.241]\n",
            " [80.805]\n",
            " [38.015]\n",
            " [53.168]\n",
            " [22.035]\n",
            " [11.904]\n",
            " [24.628]\n",
            " [40.192]\n",
            " [78.655]\n",
            " [63.845]\n",
            " [90.778]\n",
            " [83.514]\n",
            " [39.316]\n",
            " [88.635]\n",
            " [55.827]\n",
            " [60.506]\n",
            " [16.06 ]\n",
            " [14.896]\n",
            " [ 6.931]\n",
            " [ 6.47 ]\n",
            " [29.804]\n",
            " [86.295]\n",
            " [51.04 ]\n",
            " [50.624]\n",
            " [83.729]\n",
            " [ 5.094]\n",
            " [ 5.489]\n",
            " [11.605]\n",
            " [50.078]\n",
            " [43.877]\n",
            " [90.98 ]\n",
            " [27.192]\n",
            " [92.1  ]\n",
            " [60.7  ]\n",
            " [44.638]\n",
            " [ 8.271]\n",
            " [68.373]\n",
            " [93.63 ]\n",
            " [ 5.231]\n",
            " [85.964]\n",
            " [87.844]\n",
            " [25.758]\n",
            " [12.104]\n",
            " [24.933]\n",
            " [78.833]\n",
            " [11.546]\n",
            " [ 5.471]\n",
            " [ 7.375]\n",
            " [ 8.402]\n",
            " [ 4.973]\n",
            " [20.404]\n",
            " [83.177]\n",
            " [65.312]\n",
            " [82.977]\n",
            " [78.696]\n",
            " [15.589]\n",
            " [ 5.688]\n",
            " [20.508]\n",
            " [70.357]\n",
            " [81.301]\n",
            " [87.405]\n",
            " [ 8.131]\n",
            " [22.208]\n",
            " [66.079]\n",
            " [62.579]\n",
            " [64.576]\n",
            " [13.096]\n",
            " [69.594]\n",
            " [83.944]\n",
            " [64.706]\n",
            " [14.348]\n",
            " [64.073]\n",
            " [29.911]\n",
            " [68.849]\n",
            " [69.802]\n",
            " [72.891]\n",
            " [38.172]\n",
            " [ 9.381]\n",
            " [81.731]\n",
            " [84.63 ]\n",
            " [67.721]\n",
            " [ 7.771]\n",
            " [59.832]\n",
            " [65.576]\n",
            " [ 8.46 ]\n",
            " [99.864]\n",
            " [ 9.75 ]\n",
            " [67.08 ]\n",
            " [57.618]\n",
            " [18.38 ]\n",
            " [ 5.494]\n",
            " [71.639]\n",
            " [86.246]\n",
            " [14.637]\n",
            " [70.926]\n",
            " [82.535]\n",
            " [40.765]\n",
            " [78.233]\n",
            " [56.804]\n",
            " [88.799]\n",
            " [90.889]\n",
            " [63.217]\n",
            " [37.723]\n",
            " [55.926]\n",
            " [83.621]\n",
            " [33.796]\n",
            " [64.2  ]\n",
            " [ 8.088]\n",
            " [92.959]\n",
            " [68.094]\n",
            " [11.273]\n",
            " [ 8.548]\n",
            " [29.66 ]\n",
            " [15.202]\n",
            " [89.519]\n",
            " [64.039]\n",
            " [59.18 ]\n",
            " [93.385]\n",
            " [28.935]\n",
            " [10.149]\n",
            " [ 9.195]\n",
            " [51.914]\n",
            " [59.961]\n",
            " [63.535]\n",
            " [80.115]\n",
            " [88.72 ]\n",
            " [64.894]\n",
            " [ 7.934]\n",
            " [62.273]\n",
            " [27.698]\n",
            " [ 7.161]\n",
            " [38.592]\n",
            " [ 7.115]\n",
            " [61.376]\n",
            " [ 7.927]\n",
            " [64.147]\n",
            " [94.703]\n",
            " [62.242]\n",
            " [44.69 ]\n",
            " [83.644]\n",
            " [41.046]\n",
            " [87.171]\n",
            " [73.446]\n",
            " [73.151]\n",
            " [79.294]\n",
            " [ 8.921]\n",
            " [83.731]\n",
            " [22.545]\n",
            " [13.513]\n",
            " [91.05 ]\n",
            " [87.034]\n",
            " [49.009]\n",
            " [69.126]\n",
            " [54.121]\n",
            " [10.296]\n",
            " [20.367]\n",
            " [79.477]\n",
            " [47.957]\n",
            " [49.396]\n",
            " [51.407]\n",
            " [56.873]\n",
            " [28.575]\n",
            " [ 8.884]\n",
            " [14.47 ]\n",
            " [22.801]\n",
            " [39.496]\n",
            " [76.239]\n",
            " [79.573]\n",
            " [75.39 ]\n",
            " [56.568]\n",
            " [67.594]\n",
            " [77.006]\n",
            " [83.119]\n",
            " [37.315]\n",
            " [52.313]\n",
            " [21.138]\n",
            " [39.897]\n",
            " [10.589]\n",
            " [10.724]\n",
            " [90.339]\n",
            " [14.572]\n",
            " [87.395]\n",
            " [41.479]\n",
            " [48.87 ]\n",
            " [60.24 ]\n",
            " [53.938]\n",
            " [13.408]\n",
            " [10.47 ]\n",
            " [ 5.719]\n",
            " [ 7.688]]\n"
          ]
        }
      ]
    },
    {
      "cell_type": "code",
      "source": [
        "'''\n",
        "#학습과정 시각화를 통한 학습 횟수 조정\n",
        "import matplotlib.pyplot as plt\n",
        "fig, loss_ax=plt.subplots()\n",
        "acc_ax=loss_ax.twinx()\n",
        "\n",
        "loss_ax.plot(history.history['loss'],'y',label='train loss')\n",
        "loss_ax.plot(history.history['val_loss'],'r',label='val loss')\n",
        "loss_ax.set_xlabel('epoch')\n",
        "loss_ax.set_ylabel('loss')\n",
        "loss_ax.legend(loc='lower right')\n",
        "\n",
        "acc_ax.plot(history.history['accuracy'],'b',label='train acc')\n",
        "acc_ax.plot(history.history['val_accuracy'],'g',label='val acc')\n",
        "acc_ax.set_ylabel('accuracy')\n",
        "acc_ax.legend(loc='upper right')\n",
        "plt.show()\n",
        "'''"
      ],
      "metadata": {
        "colab": {
          "base_uri": "https://localhost:8080/",
          "height": 72
        },
        "id": "JZx_aANq_FnU",
        "outputId": "892c8893-478c-4fac-b0b1-64113963cfc6"
      },
      "execution_count": null,
      "outputs": [
        {
          "output_type": "execute_result",
          "data": {
            "text/plain": [
              "\"\\n#학습과정 시각화를 통한 학습 횟수 조정\\nimport matplotlib.pyplot as plt\\nfig, loss_ax=plt.subplots()\\nacc_ax=loss_ax.twinx()\\n\\nloss_ax.plot(history.history['loss'],'y',label='train loss')\\nloss_ax.plot(history.history['val_loss'],'r',label='val loss')\\nloss_ax.set_xlabel('epoch')\\nloss_ax.set_ylabel('loss')\\nloss_ax.legend(loc='lower right')\\n\\nacc_ax.plot(history.history['accuracy'],'b',label='train acc')\\nacc_ax.plot(history.history['val_accuracy'],'g',label='val acc')\\nacc_ax.set_ylabel('accuracy')\\nacc_ax.legend(loc='upper right')\\nplt.show()\\n\""
            ],
            "application/vnd.google.colaboratory.intrinsic+json": {
              "type": "string"
            }
          },
          "metadata": {},
          "execution_count": 65
        }
      ]
    },
    {
      "cell_type": "code",
      "source": [
        "#모형평가\n",
        "train_score=model.evaluate(X_train, Y_train, verbose=0)\n",
        "test_score=model.evaluate(X_test, Y_test, verbose=0)\n",
        "\n",
        "print('학습용 데이터 세트 RMSE {:.3f}'.format(sqrt(train_score)))\n",
        "print('평가용 데이터 세트 RMSE {:.3f}'.format(sqrt(test_score)))\n",
        "\n",
        "sanghai_dnn_rmse=sqrt(test_score)\n"
      ],
      "metadata": {
        "colab": {
          "base_uri": "https://localhost:8080/"
        },
        "id": "ZS6i8D_oz2g0",
        "outputId": "4b362b80-dbfc-49d9-aea3-e710a803d733"
      },
      "execution_count": null,
      "outputs": [
        {
          "output_type": "stream",
          "name": "stdout",
          "text": [
            "학습용 데이터 세트 RMSE 4.995\n",
            "평가용 데이터 세트 RMSE 5.186\n"
          ]
        }
      ]
    },
    {
      "cell_type": "code",
      "source": [
        "import matplotlib.pyplot as plt\n",
        "plt.plot(history.history['loss'])\n",
        "plt.xlabel('epoch')\n",
        "plt.ylabel('loss')\n",
        "plt.legend(['train'])\n",
        "plt.savefig('7_3-07', dpi=300)\n",
        "plt.show()"
      ],
      "metadata": {
        "colab": {
          "base_uri": "https://localhost:8080/",
          "height": 279
        },
        "id": "dxldATXp2Tps",
        "outputId": "0d19b3dc-4db5-470a-f0be-c6c9608490de"
      },
      "execution_count": null,
      "outputs": [
        {
          "output_type": "display_data",
          "data": {
            "text/plain": [
              "<Figure size 432x288 with 1 Axes>"
            ],
            "image/png": "[encoded data removed]"
          },
          "metadata": {
            "needs_background": "light"
          }
        }
      ]
    },
    {
      "cell_type": "code",
      "source": [
        "#모형 재학습 및 예측\n",
        "history=model.fit(X_train, Y_train, epochs=8, validation_split=0.2, batch_size=64, verbose=0)\n",
        "Y_pred=np.round(model.predict(X_test, verbose=0),3)\n",
        "print('평가용 데이터 세트에 대한 예측값\\n', Y_pred)"
      ],
      "metadata": {
        "colab": {
          "base_uri": "https://localhost:8080/"
        },
        "id": "0y72HQhX2XTA",
        "outputId": "709b7bc8-fae1-4ca2-eb2c-1437272cc476"
      },
      "execution_count": null,
      "outputs": [
        {
          "output_type": "stream",
          "name": "stdout",
          "text": [
            "평가용 데이터 세트에 대한 예측값\n",
            " [[65.042]\n",
            " [ 8.884]\n",
            " [74.38 ]\n",
            " [78.931]\n",
            " [40.264]\n",
            " [ 5.678]\n",
            " [61.489]\n",
            " [94.295]\n",
            " [33.255]\n",
            " [74.203]\n",
            " [74.765]\n",
            " [12.54 ]\n",
            " [49.594]\n",
            " [ 3.964]\n",
            " [17.011]\n",
            " [91.035]\n",
            " [50.647]\n",
            " [88.985]\n",
            " [94.632]\n",
            " [27.634]\n",
            " [12.443]\n",
            " [51.835]\n",
            " [15.682]\n",
            " [84.489]\n",
            " [ 5.787]\n",
            " [27.202]\n",
            " [ 5.237]\n",
            " [22.583]\n",
            " [20.352]\n",
            " [38.926]\n",
            " [ 6.973]\n",
            " [94.086]\n",
            " [71.197]\n",
            " [51.366]\n",
            " [28.321]\n",
            " [ 4.186]\n",
            " [33.209]\n",
            " [58.053]\n",
            " [67.939]\n",
            " [82.404]\n",
            " [67.329]\n",
            " [60.621]\n",
            " [61.469]\n",
            " [92.356]\n",
            " [13.397]\n",
            " [88.781]\n",
            " [95.927]\n",
            " [ 5.105]\n",
            " [49.055]\n",
            " [10.216]\n",
            " [84.95 ]\n",
            " [ 5.442]\n",
            " [78.922]\n",
            " [13.322]\n",
            " [ 6.411]\n",
            " [34.423]\n",
            " [85.75 ]\n",
            " [40.965]\n",
            " [90.752]\n",
            " [12.106]\n",
            " [59.131]\n",
            " [27.25 ]\n",
            " [60.054]\n",
            " [92.587]\n",
            " [ 4.569]\n",
            " [85.627]\n",
            " [14.515]\n",
            " [52.604]\n",
            " [74.296]\n",
            " [67.982]\n",
            " [64.272]\n",
            " [13.568]\n",
            " [34.935]\n",
            " [76.671]\n",
            " [91.25 ]\n",
            " [90.144]\n",
            " [73.422]\n",
            " [14.58 ]\n",
            " [30.281]\n",
            " [83.148]\n",
            " [71.257]\n",
            " [59.976]\n",
            " [77.986]\n",
            " [50.032]\n",
            " [58.399]\n",
            " [83.44 ]\n",
            " [63.544]\n",
            " [31.998]\n",
            " [87.45 ]\n",
            " [38.097]\n",
            " [16.711]\n",
            " [12.638]\n",
            " [20.961]\n",
            " [ 7.726]\n",
            " [78.632]\n",
            " [58.857]\n",
            " [17.187]\n",
            " [82.54 ]\n",
            " [31.47 ]\n",
            " [48.989]\n",
            " [49.076]\n",
            " [ 6.48 ]\n",
            " [92.203]\n",
            " [ 5.821]\n",
            " [10.56 ]\n",
            " [70.238]\n",
            " [52.118]\n",
            " [90.351]\n",
            " [13.961]\n",
            " [98.973]\n",
            " [ 4.227]\n",
            " [24.868]\n",
            " [57.711]\n",
            " [82.332]\n",
            " [68.951]\n",
            " [17.327]\n",
            " [66.446]\n",
            " [38.948]\n",
            " [87.044]\n",
            " [ 5.412]\n",
            " [33.718]\n",
            " [63.032]\n",
            " [55.889]\n",
            " [39.139]\n",
            " [23.344]\n",
            " [ 9.547]\n",
            " [ 6.143]\n",
            " [60.635]\n",
            " [16.498]\n",
            " [ 5.936]\n",
            " [87.176]\n",
            " [14.975]\n",
            " [19.403]\n",
            " [17.653]\n",
            " [49.43 ]\n",
            " [51.934]\n",
            " [70.451]\n",
            " [71.472]\n",
            " [54.713]\n",
            " [ 5.004]\n",
            " [88.297]\n",
            " [74.83 ]\n",
            " [80.421]\n",
            " [36.937]\n",
            " [53.03 ]\n",
            " [23.557]\n",
            " [13.369]\n",
            " [24.371]\n",
            " [39.115]\n",
            " [80.17 ]\n",
            " [62.999]\n",
            " [90.274]\n",
            " [83.868]\n",
            " [40.206]\n",
            " [86.887]\n",
            " [55.346]\n",
            " [60.482]\n",
            " [17.431]\n",
            " [15.69 ]\n",
            " [ 7.848]\n",
            " [ 5.912]\n",
            " [28.873]\n",
            " [85.258]\n",
            " [50.441]\n",
            " [48.351]\n",
            " [83.861]\n",
            " [ 4.079]\n",
            " [ 5.385]\n",
            " [10.256]\n",
            " [51.625]\n",
            " [41.677]\n",
            " [90.813]\n",
            " [27.103]\n",
            " [92.251]\n",
            " [60.024]\n",
            " [43.25 ]\n",
            " [ 6.87 ]\n",
            " [68.985]\n",
            " [94.565]\n",
            " [ 4.246]\n",
            " [86.28 ]\n",
            " [87.758]\n",
            " [24.86 ]\n",
            " [13.401]\n",
            " [24.94 ]\n",
            " [80.069]\n",
            " [10.487]\n",
            " [ 5.618]\n",
            " [ 7.219]\n",
            " [ 7.386]\n",
            " [ 3.822]\n",
            " [22.417]\n",
            " [82.522]\n",
            " [67.115]\n",
            " [83.89 ]\n",
            " [78.486]\n",
            " [16.303]\n",
            " [ 6.366]\n",
            " [22.034]\n",
            " [71.373]\n",
            " [82.789]\n",
            " [87.733]\n",
            " [ 8.386]\n",
            " [21.964]\n",
            " [64.605]\n",
            " [61.957]\n",
            " [64.287]\n",
            " [14.122]\n",
            " [71.034]\n",
            " [82.58 ]\n",
            " [65.159]\n",
            " [15.53 ]\n",
            " [63.837]\n",
            " [29.179]\n",
            " [68.163]\n",
            " [72.466]\n",
            " [73.295]\n",
            " [38.078]\n",
            " [10.382]\n",
            " [82.502]\n",
            " [84.157]\n",
            " [66.471]\n",
            " [ 7.99 ]\n",
            " [59.814]\n",
            " [64.998]\n",
            " [ 9.771]\n",
            " [99.067]\n",
            " [ 9.388]\n",
            " [68.252]\n",
            " [57.272]\n",
            " [18.368]\n",
            " [ 4.399]\n",
            " [74.469]\n",
            " [88.887]\n",
            " [15.477]\n",
            " [69.186]\n",
            " [83.246]\n",
            " [39.316]\n",
            " [79.112]\n",
            " [55.427]\n",
            " [90.222]\n",
            " [90.42 ]\n",
            " [63.651]\n",
            " [37.584]\n",
            " [57.689]\n",
            " [85.866]\n",
            " [33.001]\n",
            " [62.895]\n",
            " [ 9.012]\n",
            " [92.936]\n",
            " [67.016]\n",
            " [12.206]\n",
            " [ 9.249]\n",
            " [29.824]\n",
            " [15.976]\n",
            " [90.386]\n",
            " [64.54 ]\n",
            " [59.215]\n",
            " [93.673]\n",
            " [28.703]\n",
            " [11.142]\n",
            " [10.546]\n",
            " [50.532]\n",
            " [58.349]\n",
            " [62.164]\n",
            " [81.408]\n",
            " [89.331]\n",
            " [65.028]\n",
            " [ 7.171]\n",
            " [60.607]\n",
            " [27.663]\n",
            " [ 8.158]\n",
            " [38.914]\n",
            " [ 6.686]\n",
            " [61.392]\n",
            " [ 8.707]\n",
            " [63.938]\n",
            " [94.865]\n",
            " [61.904]\n",
            " [44.555]\n",
            " [84.211]\n",
            " [41.361]\n",
            " [88.693]\n",
            " [74.762]\n",
            " [71.855]\n",
            " [79.192]\n",
            " [ 8.816]\n",
            " [84.063]\n",
            " [22.204]\n",
            " [14.391]\n",
            " [90.322]\n",
            " [87.659]\n",
            " [48.256]\n",
            " [68.015]\n",
            " [55.161]\n",
            " [11.997]\n",
            " [20.123]\n",
            " [79.973]\n",
            " [48.41 ]\n",
            " [48.817]\n",
            " [51.084]\n",
            " [56.164]\n",
            " [28.836]\n",
            " [ 9.859]\n",
            " [15.261]\n",
            " [22.56 ]\n",
            " [39.754]\n",
            " [77.299]\n",
            " [79.546]\n",
            " [76.622]\n",
            " [57.514]\n",
            " [66.105]\n",
            " [75.786]\n",
            " [83.872]\n",
            " [38.037]\n",
            " [53.249]\n",
            " [21.262]\n",
            " [40.083]\n",
            " [11.396]\n",
            " [12.204]\n",
            " [91.229]\n",
            " [15.805]\n",
            " [87.194]\n",
            " [40.634]\n",
            " [48.014]\n",
            " [59.957]\n",
            " [53.008]\n",
            " [14.002]\n",
            " [11.881]\n",
            " [ 6.11 ]\n",
            " [ 8.628]]\n"
          ]
        }
      ]
    },
    {
      "cell_type": "code",
      "source": [
        "#모형평가\n",
        "train_score=model.evaluate(X_train, Y_train, verbose=0)\n",
        "test_score=model.evaluate(X_test, Y_test, verbose=0)\n",
        "\n",
        "print('학습용 데이터 세트 RMSE {:.3f}'.format(sqrt(train_score)))\n",
        "print('평가용 데이터 세트 RMSE {:.3f}'.format(sqrt(test_score)))\n",
        "\n",
        "sanghai_dnn_rmse=sqrt(test_score)"
      ],
      "metadata": {
        "colab": {
          "base_uri": "https://localhost:8080/"
        },
        "id": "8Rju2tqC2hIT",
        "outputId": "053e599e-a046-4bbf-bd5d-219ced113a71"
      },
      "execution_count": null,
      "outputs": [
        {
          "output_type": "stream",
          "name": "stdout",
          "text": [
            "학습용 데이터 세트 RMSE 4.448\n",
            "평가용 데이터 세트 RMSE 4.687\n"
          ]
        }
      ]
    },
    {
      "cell_type": "code",
      "source": [
        "#타임즈 및 상하이 대학순위 모델 결과\n",
        "data_a=pd.DataFrame(data={'type':['타임즈','상하이'],'voting ensemble':[times_vote,sanghai_vote],'svr':[times_list[0],sanghai_list[0]],'mlp_regressor':[times_list[1],sanghai_list[1]],'decisiontree':[times_list[2],sanghai_list[2]],'k_neighbors':[times_list[3],sanghai_list[3]],'randomforest':[times_random,sanghai_random],'gradient_boosting':[times_gd,sanghai_gd]})\n",
        "data_a\n"
      ],
      "metadata": {
        "colab": {
          "base_uri": "https://localhost:8080/",
          "height": 112
        },
        "id": "OTSSq3j83lZU",
        "outputId": "18183a8b-623e-4edc-96ef-23edf7435bcc"
      },
      "execution_count": null,
      "outputs": [
        {
          "output_type": "execute_result",
          "data": {
            "text/plain": [
              "  type  voting ensemble       svr  mlp_regressor  decisiontree  k_neighbors  \\\n",
              "0  타임즈         0.926381  0.733526       0.897891      0.876440     0.900871   \n",
              "1  상하이         0.976915  0.872249       0.956693      0.972042     0.975705   \n",
              "\n",
              "   randomforest  gradient_boosting  \n",
              "0      0.895437           0.936086  \n",
              "1      0.932658           0.975237  "
            ],
            "text/html": [
              "\n",
              "  <div id=\"df-402ba4b1-8d7b-4d79-b977-042b4d3fbc1d\">\n",
              "    <div class=\"colab-df-container\">\n",
              "      <div>\n",
              "<style scoped>\n",
              "    .dataframe tbody tr th:only-of-type {\n",
              "        vertical-align: middle;\n",
              "    }\n",
              "\n",
              "    .dataframe tbody tr th {\n",
              "        vertical-align: top;\n",
              "    }\n",
              "\n",
              "    .dataframe thead th {\n",
              "        text-align: right;\n",
              "    }\n",
              "</style>\n",
              "<table border=\"1\" class=\"dataframe\">\n",
              "  <thead>\n",
              "    <tr style=\"text-align: right;\">\n",
              "      <th></th>\n",
              "      <th>type</th>\n",
              "      <th>voting ensemble</th>\n",
              "      <th>svr</th>\n",
              "      <th>mlp_regressor</th>\n",
              "      <th>decisiontree</th>\n",
              "      <th>k_neighbors</th>\n",
              "      <th>randomforest</th>\n",
              "      <th>gradient_boosting</th>\n",
              "    </tr>\n",
              "  </thead>\n",
              "  <tbody>\n",
              "    <tr>\n",
              "      <th>0</th>\n",
              "      <td>타임즈</td>\n",
              "      <td>0.926381</td>\n",
              "      <td>0.733526</td>\n",
              "      <td>0.897891</td>\n",
              "      <td>0.876440</td>\n",
              "      <td>0.900871</td>\n",
              "      <td>0.895437</td>\n",
              "      <td>0.936086</td>\n",
              "    </tr>\n",
              "    <tr>\n",
              "      <th>1</th>\n",
              "      <td>상하이</td>\n",
              "      <td>0.976915</td>\n",
              "      <td>0.872249</td>\n",
              "      <td>0.956693</td>\n",
              "      <td>0.972042</td>\n",
              "      <td>0.975705</td>\n",
              "      <td>0.932658</td>\n",
              "      <td>0.975237</td>\n",
              "    </tr>\n",
              "  </tbody>\n",
              "</table>\n",
              "</div>\n",
              "      <button class=\"colab-df-convert\" onclick=\"convertToInteractive('df-402ba4b1-8d7b-4d79-b977-042b4d3fbc1d')\"\n",
              "              title=\"Convert this dataframe to an interactive table.\"\n",
              "              style=\"display:none;\">\n",
              "        \n",
              "  <svg xmlns=\"http://www.w3.org/2000/svg\" height=\"24px\"viewBox=\"0 0 24 24\"\n",
              "       width=\"24px\">\n",
              "    <path d=\"M0 0h24v24H0V0z\" fill=\"none\"/>\n",
              "    <path d=\"M18.56 5.44l.94 2.06.94-2.06 2.06-.94-2.06-.94-.94-2.06-.94 2.06-2.06.94zm-11 1L8.5 8.5l.94-2.06 2.06-.94-2.06-.94L8.5 2.5l-.94 2.06-2.06.94zm10 10l.94 2.06.94-2.06 2.06-.94-2.06-.94-.94-2.06-.94 2.06-2.06.94z\"/><path d=\"M17.41 7.96l-1.37-1.37c-.4-.4-.92-.59-1.43-.59-.52 0-1.04.2-1.43.59L10.3 9.45l-7.72 7.72c-.78.78-.78 2.05 0 2.83L4 21.41c.39.39.9.59 1.41.59.51 0 1.02-.2 1.41-.59l7.78-7.78 2.81-2.81c.8-.78.8-2.07 0-2.86zM5.41 20L4 18.59l7.72-7.72 1.47 1.35L5.41 20z\"/>\n",
              "  </svg>\n",
              "      </button>\n",
              "      \n",
              "  <style>\n",
              "    .colab-df-container {\n",
              "      display:flex;\n",
              "      flex-wrap:wrap;\n",
              "      gap: 12px;\n",
              "    }\n",
              "\n",
              "    .colab-df-convert {\n",
              "      background-color: #E8F0FE;\n",
              "      border: none;\n",
              "      border-radius: 50%;\n",
              "      cursor: pointer;\n",
              "      display: none;\n",
              "      fill: #1967D2;\n",
              "      height: 32px;\n",
              "      padding: 0 0 0 0;\n",
              "      width: 32px;\n",
              "    }\n",
              "\n",
              "    .colab-df-convert:hover {\n",
              "      background-color: #E2EBFA;\n",
              "      box-shadow: 0px 1px 2px rgba(60, 64, 67, 0.3), 0px 1px 3px 1px rgba(60, 64, 67, 0.15);\n",
              "      fill: #174EA6;\n",
              "    }\n",
              "\n",
              "    [theme=dark] .colab-df-convert {\n",
              "      background-color: #3B4455;\n",
              "      fill: #D2E3FC;\n",
              "    }\n",
              "\n",
              "    [theme=dark] .colab-df-convert:hover {\n",
              "      background-color: #434B5C;\n",
              "      box-shadow: 0px 1px 3px 1px rgba(0, 0, 0, 0.15);\n",
              "      filter: drop-shadow(0px 1px 2px rgba(0, 0, 0, 0.3));\n",
              "      fill: #FFFFFF;\n",
              "    }\n",
              "  </style>\n",
              "\n",
              "      <script>\n",
              "        const buttonEl =\n",
              "          document.querySelector('#df-402ba4b1-8d7b-4d79-b977-042b4d3fbc1d button.colab-df-convert');\n",
              "        buttonEl.style.display =\n",
              "          google.colab.kernel.accessAllowed ? 'block' : 'none';\n",
              "\n",
              "        async function convertToInteractive(key) {\n",
              "          const element = document.querySelector('#df-402ba4b1-8d7b-4d79-b977-042b4d3fbc1d');\n",
              "          const dataTable =\n",
              "            await google.colab.kernel.invokeFunction('convertToInteractive',\n",
              "                                                     [key], {});\n",
              "          if (!dataTable) return;\n",
              "\n",
              "          const docLinkHtml = 'Like what you see? Visit the ' +\n",
              "            '<a target=\"_blank\" href=https://colab.research.google.com/notebooks/data_table.ipynb>data table notebook</a>'\n",
              "            + ' to learn more about interactive tables.';\n",
              "          element.innerHTML = '';\n",
              "          dataTable['output_type'] = 'display_data';\n",
              "          await google.colab.output.renderOutput(dataTable, element);\n",
              "          const docLink = document.createElement('div');\n",
              "          docLink.innerHTML = docLinkHtml;\n",
              "          element.appendChild(docLink);\n",
              "        }\n",
              "      </script>\n",
              "    </div>\n",
              "  </div>\n",
              "  "
            ]
          },
          "metadata": {},
          "execution_count": 70
        }
      ]
    },
    {
      "cell_type": "code",
      "source": [
        "#타임즈 및 상하이 대학순위 모델 결과\n",
        "data_b=pd.DataFrame(data={'type':['타임즈 rmse','상하이 rmse'],'voting ensemble':[times_vote_rmse,sanghai_vote_rmse],'randomforest':[times_random_rmse,sanghai_random_rmse],'gradient_boosting':[times_gd_rmse,sanghai_gd_rmse], 'dnn':[times_dnn_rmse,sanghai_dnn_rmse]})\n",
        "data_b"
      ],
      "metadata": {
        "colab": {
          "base_uri": "https://localhost:8080/",
          "height": 112
        },
        "id": "k1OS2A-_6yOY",
        "outputId": "be552b34-6950-488c-8048-44dab0b5f7b9"
      },
      "execution_count": null,
      "outputs": [
        {
          "output_type": "execute_result",
          "data": {
            "text/plain": [
              "       type  voting ensemble  randomforest  gradient_boosting        dnn\n",
              "0  타임즈 rmse        15.236093     18.217742          14.242998  14.348814\n",
              "1  상하이 rmse         4.467925      7.690771           4.663676   4.687186"
            ],
            "text/html": [
              "\n",
              "  <div id=\"df-7dbb8cba-94f4-40ef-b838-d4bde59ad696\">\n",
              "    <div class=\"colab-df-container\">\n",
              "      <div>\n",
              "<style scoped>\n",
              "    .dataframe tbody tr th:only-of-type {\n",
              "        vertical-align: middle;\n",
              "    }\n",
              "\n",
              "    .dataframe tbody tr th {\n",
              "        vertical-align: top;\n",
              "    }\n",
              "\n",
              "    .dataframe thead th {\n",
              "        text-align: right;\n",
              "    }\n",
              "</style>\n",
              "<table border=\"1\" class=\"dataframe\">\n",
              "  <thead>\n",
              "    <tr style=\"text-align: right;\">\n",
              "      <th></th>\n",
              "      <th>type</th>\n",
              "      <th>voting ensemble</th>\n",
              "      <th>randomforest</th>\n",
              "      <th>gradient_boosting</th>\n",
              "      <th>dnn</th>\n",
              "    </tr>\n",
              "  </thead>\n",
              "  <tbody>\n",
              "    <tr>\n",
              "      <th>0</th>\n",
              "      <td>타임즈 rmse</td>\n",
              "      <td>15.236093</td>\n",
              "      <td>18.217742</td>\n",
              "      <td>14.242998</td>\n",
              "      <td>14.348814</td>\n",
              "    </tr>\n",
              "    <tr>\n",
              "      <th>1</th>\n",
              "      <td>상하이 rmse</td>\n",
              "      <td>4.467925</td>\n",
              "      <td>7.690771</td>\n",
              "      <td>4.663676</td>\n",
              "      <td>4.687186</td>\n",
              "    </tr>\n",
              "  </tbody>\n",
              "</table>\n",
              "</div>\n",
              "      <button class=\"colab-df-convert\" onclick=\"convertToInteractive('df-7dbb8cba-94f4-40ef-b838-d4bde59ad696')\"\n",
              "              title=\"Convert this dataframe to an interactive table.\"\n",
              "              style=\"display:none;\">\n",
              "        \n",
              "  <svg xmlns=\"http://www.w3.org/2000/svg\" height=\"24px\"viewBox=\"0 0 24 24\"\n",
              "       width=\"24px\">\n",
              "    <path d=\"M0 0h24v24H0V0z\" fill=\"none\"/>\n",
              "    <path d=\"M18.56 5.44l.94 2.06.94-2.06 2.06-.94-2.06-.94-.94-2.06-.94 2.06-2.06.94zm-11 1L8.5 8.5l.94-2.06 2.06-.94-2.06-.94L8.5 2.5l-.94 2.06-2.06.94zm10 10l.94 2.06.94-2.06 2.06-.94-2.06-.94-.94-2.06-.94 2.06-2.06.94z\"/><path d=\"M17.41 7.96l-1.37-1.37c-.4-.4-.92-.59-1.43-.59-.52 0-1.04.2-1.43.59L10.3 9.45l-7.72 7.72c-.78.78-.78 2.05 0 2.83L4 21.41c.39.39.9.59 1.41.59.51 0 1.02-.2 1.41-.59l7.78-7.78 2.81-2.81c.8-.78.8-2.07 0-2.86zM5.41 20L4 18.59l7.72-7.72 1.47 1.35L5.41 20z\"/>\n",
              "  </svg>\n",
              "      </button>\n",
              "      \n",
              "  <style>\n",
              "    .colab-df-container {\n",
              "      display:flex;\n",
              "      flex-wrap:wrap;\n",
              "      gap: 12px;\n",
              "    }\n",
              "\n",
              "    .colab-df-convert {\n",
              "      background-color: #E8F0FE;\n",
              "      border: none;\n",
              "      border-radius: 50%;\n",
              "      cursor: pointer;\n",
              "      display: none;\n",
              "      fill: #1967D2;\n",
              "      height: 32px;\n",
              "      padding: 0 0 0 0;\n",
              "      width: 32px;\n",
              "    }\n",
              "\n",
              "    .colab-df-convert:hover {\n",
              "      background-color: #E2EBFA;\n",
              "      box-shadow: 0px 1px 2px rgba(60, 64, 67, 0.3), 0px 1px 3px 1px rgba(60, 64, 67, 0.15);\n",
              "      fill: #174EA6;\n",
              "    }\n",
              "\n",
              "    [theme=dark] .colab-df-convert {\n",
              "      background-color: #3B4455;\n",
              "      fill: #D2E3FC;\n",
              "    }\n",
              "\n",
              "    [theme=dark] .colab-df-convert:hover {\n",
              "      background-color: #434B5C;\n",
              "      box-shadow: 0px 1px 3px 1px rgba(0, 0, 0, 0.15);\n",
              "      filter: drop-shadow(0px 1px 2px rgba(0, 0, 0, 0.3));\n",
              "      fill: #FFFFFF;\n",
              "    }\n",
              "  </style>\n",
              "\n",
              "      <script>\n",
              "        const buttonEl =\n",
              "          document.querySelector('#df-7dbb8cba-94f4-40ef-b838-d4bde59ad696 button.colab-df-convert');\n",
              "        buttonEl.style.display =\n",
              "          google.colab.kernel.accessAllowed ? 'block' : 'none';\n",
              "\n",
              "        async function convertToInteractive(key) {\n",
              "          const element = document.querySelector('#df-7dbb8cba-94f4-40ef-b838-d4bde59ad696');\n",
              "          const dataTable =\n",
              "            await google.colab.kernel.invokeFunction('convertToInteractive',\n",
              "                                                     [key], {});\n",
              "          if (!dataTable) return;\n",
              "\n",
              "          const docLinkHtml = 'Like what you see? Visit the ' +\n",
              "            '<a target=\"_blank\" href=https://colab.research.google.com/notebooks/data_table.ipynb>data table notebook</a>'\n",
              "            + ' to learn more about interactive tables.';\n",
              "          element.innerHTML = '';\n",
              "          dataTable['output_type'] = 'display_data';\n",
              "          await google.colab.output.renderOutput(dataTable, element);\n",
              "          const docLink = document.createElement('div');\n",
              "          docLink.innerHTML = docLinkHtml;\n",
              "          element.appendChild(docLink);\n",
              "        }\n",
              "      </script>\n",
              "    </div>\n",
              "  </div>\n",
              "  "
            ]
          },
          "metadata": {},
          "execution_count": 71
        }
      ]
    },
    {
      "cell_type": "code",
      "source": [
        "data_c=pd.DataFrame(data={'type':['타임즈','상하이'],'voting ensemble':[times_vote_sub,sanghai_vote_sub],'svr':[times_sub_list[0],sanghai_sub_list[0]],'mlp_regressor':[times_sub_list[1],sanghai_sub_list[1]],'decisiontree':[times_sub_list[2],sanghai_sub_list[2]],'k_neighbors':[times_sub_list[3],sanghai_sub_list[3]],'randomforest':[times_random_sub,sanghai_random_sub],'gradient_boosting':[times_gd_sub,sanghai_gd_sub]})\n",
        "data_c"
      ],
      "metadata": {
        "colab": {
          "base_uri": "https://localhost:8080/",
          "height": 112
        },
        "id": "OWofdBwPPlLW",
        "outputId": "5ea36658-782f-415c-8bce-eb76390ca625"
      },
      "execution_count": null,
      "outputs": [
        {
          "output_type": "execute_result",
          "data": {
            "text/plain": [
              "  type  voting ensemble       svr  mlp_regressor  decisiontree  k_neighbors  \\\n",
              "0  타임즈         0.020203  0.021752       0.007019      0.123560     0.026000   \n",
              "1  상하이         0.005223  0.004924       0.000734      0.027958     0.006402   \n",
              "\n",
              "   randomforest  gradient_boosting  \n",
              "0      0.007064           0.014824  \n",
              "1      0.011214           0.007256  "
            ],
            "text/html": [
              "\n",
              "  <div id=\"df-4317351e-d47c-4efc-ae63-368d0de0d656\">\n",
              "    <div class=\"colab-df-container\">\n",
              "      <div>\n",
              "<style scoped>\n",
              "    .dataframe tbody tr th:only-of-type {\n",
              "        vertical-align: middle;\n",
              "    }\n",
              "\n",
              "    .dataframe tbody tr th {\n",
              "        vertical-align: top;\n",
              "    }\n",
              "\n",
              "    .dataframe thead th {\n",
              "        text-align: right;\n",
              "    }\n",
              "</style>\n",
              "<table border=\"1\" class=\"dataframe\">\n",
              "  <thead>\n",
              "    <tr style=\"text-align: right;\">\n",
              "      <th></th>\n",
              "      <th>type</th>\n",
              "      <th>voting ensemble</th>\n",
              "      <th>svr</th>\n",
              "      <th>mlp_regressor</th>\n",
              "      <th>decisiontree</th>\n",
              "      <th>k_neighbors</th>\n",
              "      <th>randomforest</th>\n",
              "      <th>gradient_boosting</th>\n",
              "    </tr>\n",
              "  </thead>\n",
              "  <tbody>\n",
              "    <tr>\n",
              "      <th>0</th>\n",
              "      <td>타임즈</td>\n",
              "      <td>0.020203</td>\n",
              "      <td>0.021752</td>\n",
              "      <td>0.007019</td>\n",
              "      <td>0.123560</td>\n",
              "      <td>0.026000</td>\n",
              "      <td>0.007064</td>\n",
              "      <td>0.014824</td>\n",
              "    </tr>\n",
              "    <tr>\n",
              "      <th>1</th>\n",
              "      <td>상하이</td>\n",
              "      <td>0.005223</td>\n",
              "      <td>0.004924</td>\n",
              "      <td>0.000734</td>\n",
              "      <td>0.027958</td>\n",
              "      <td>0.006402</td>\n",
              "      <td>0.011214</td>\n",
              "      <td>0.007256</td>\n",
              "    </tr>\n",
              "  </tbody>\n",
              "</table>\n",
              "</div>\n",
              "      <button class=\"colab-df-convert\" onclick=\"convertToInteractive('df-4317351e-d47c-4efc-ae63-368d0de0d656')\"\n",
              "              title=\"Convert this dataframe to an interactive table.\"\n",
              "              style=\"display:none;\">\n",
              "        \n",
              "  <svg xmlns=\"http://www.w3.org/2000/svg\" height=\"24px\"viewBox=\"0 0 24 24\"\n",
              "       width=\"24px\">\n",
              "    <path d=\"M0 0h24v24H0V0z\" fill=\"none\"/>\n",
              "    <path d=\"M18.56 5.44l.94 2.06.94-2.06 2.06-.94-2.06-.94-.94-2.06-.94 2.06-2.06.94zm-11 1L8.5 8.5l.94-2.06 2.06-.94-2.06-.94L8.5 2.5l-.94 2.06-2.06.94zm10 10l.94 2.06.94-2.06 2.06-.94-2.06-.94-.94-2.06-.94 2.06-2.06.94z\"/><path d=\"M17.41 7.96l-1.37-1.37c-.4-.4-.92-.59-1.43-.59-.52 0-1.04.2-1.43.59L10.3 9.45l-7.72 7.72c-.78.78-.78 2.05 0 2.83L4 21.41c.39.39.9.59 1.41.59.51 0 1.02-.2 1.41-.59l7.78-7.78 2.81-2.81c.8-.78.8-2.07 0-2.86zM5.41 20L4 18.59l7.72-7.72 1.47 1.35L5.41 20z\"/>\n",
              "  </svg>\n",
              "      </button>\n",
              "      \n",
              "  <style>\n",
              "    .colab-df-container {\n",
              "      display:flex;\n",
              "      flex-wrap:wrap;\n",
              "      gap: 12px;\n",
              "    }\n",
              "\n",
              "    .colab-df-convert {\n",
              "      background-color: #E8F0FE;\n",
              "      border: none;\n",
              "      border-radius: 50%;\n",
              "      cursor: pointer;\n",
              "      display: none;\n",
              "      fill: #1967D2;\n",
              "      height: 32px;\n",
              "      padding: 0 0 0 0;\n",
              "      width: 32px;\n",
              "    }\n",
              "\n",
              "    .colab-df-convert:hover {\n",
              "      background-color: #E2EBFA;\n",
              "      box-shadow: 0px 1px 2px rgba(60, 64, 67, 0.3), 0px 1px 3px 1px rgba(60, 64, 67, 0.15);\n",
              "      fill: #174EA6;\n",
              "    }\n",
              "\n",
              "    [theme=dark] .colab-df-convert {\n",
              "      background-color: #3B4455;\n",
              "      fill: #D2E3FC;\n",
              "    }\n",
              "\n",
              "    [theme=dark] .colab-df-convert:hover {\n",
              "      background-color: #434B5C;\n",
              "      box-shadow: 0px 1px 3px 1px rgba(0, 0, 0, 0.15);\n",
              "      filter: drop-shadow(0px 1px 2px rgba(0, 0, 0, 0.3));\n",
              "      fill: #FFFFFF;\n",
              "    }\n",
              "  </style>\n",
              "\n",
              "      <script>\n",
              "        const buttonEl =\n",
              "          document.querySelector('#df-4317351e-d47c-4efc-ae63-368d0de0d656 button.colab-df-convert');\n",
              "        buttonEl.style.display =\n",
              "          google.colab.kernel.accessAllowed ? 'block' : 'none';\n",
              "\n",
              "        async function convertToInteractive(key) {\n",
              "          const element = document.querySelector('#df-4317351e-d47c-4efc-ae63-368d0de0d656');\n",
              "          const dataTable =\n",
              "            await google.colab.kernel.invokeFunction('convertToInteractive',\n",
              "                                                     [key], {});\n",
              "          if (!dataTable) return;\n",
              "\n",
              "          const docLinkHtml = 'Like what you see? Visit the ' +\n",
              "            '<a target=\"_blank\" href=https://colab.research.google.com/notebooks/data_table.ipynb>data table notebook</a>'\n",
              "            + ' to learn more about interactive tables.';\n",
              "          element.innerHTML = '';\n",
              "          dataTable['output_type'] = 'display_data';\n",
              "          await google.colab.output.renderOutput(dataTable, element);\n",
              "          const docLink = document.createElement('div');\n",
              "          docLink.innerHTML = docLinkHtml;\n",
              "          element.appendChild(docLink);\n",
              "        }\n",
              "      </script>\n",
              "    </div>\n",
              "  </div>\n",
              "  "
            ]
          },
          "metadata": {},
          "execution_count": 72
        }
      ]
    }
  ]
}